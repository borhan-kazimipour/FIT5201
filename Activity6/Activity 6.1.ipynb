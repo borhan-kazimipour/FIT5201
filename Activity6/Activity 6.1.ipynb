{
 "cells": [
  {
   "cell_type": "markdown",
   "metadata": {},
   "source": [
    "# Activity 6.1 Map-Reduce Basics\n",
    "## Map-Reduce in Python\n",
    "Since Python has `map` and `reduce` built-in functions, we use it to demonstrate the concepts behind Map-Reduce. Then, we move forward to do some basic experiments using actual `map` and `reduce` functions in Spark.\n",
    "\n",
    "**Note:** All parts of this activty are designed to run in Python 2. For Python 3 you may need to modify some parts of the code."
   ]
  },
  {
   "cell_type": "markdown",
   "metadata": {},
   "source": [
    "### Mapping Example (Square of a Vector)\n",
    "Suppose we have a vector (list) of numbers and we want to calculate the squares of each number of that vector. Let’s do it with a `for` loop first, and then without a for loop and only using a simple `map` function that does the job for us. "
   ]
  },
  {
   "cell_type": "code",
   "execution_count": 1,
   "metadata": {
    "collapsed": false
   },
   "outputs": [
    {
     "name": "stdout",
     "output_type": "stream",
     "text": [
      "numbers: [1, 2, 3, 4]\n",
      "1 X 1 = 1\n",
      "2 X 2 = 4\n",
      "3 X 3 = 9\n",
      "4 X 4 = 16\n",
      "squared: [1, 4, 9, 16]\n"
     ]
    }
   ],
   "source": [
    "# define square function:\n",
    "def sqr(x): return x ** 2 \n",
    "\n",
    "# the traditional way using loop:\n",
    "numbers = [1, 2, 3, 4]\n",
    "squared = []\n",
    "\n",
    "print('numbers: ' + str(numbers)) # print thr input numbers\n",
    "\n",
    "for n in numbers: # loop\n",
    "    squared.append(sqr(n)) # save the results\n",
    "    print (str(n) + \" X \" + str(n) + \" = \" + str(squared[-1])) # print n and the last element of squared\n",
    "    \n",
    "print('squared: ' + str(squared))"
   ]
  },
  {
   "cell_type": "code",
   "execution_count": 2,
   "metadata": {
    "collapsed": false
   },
   "outputs": [
    {
     "data": {
      "text/plain": [
       "[1, 4, 9, 16]"
      ]
     },
     "execution_count": 2,
     "metadata": {},
     "output_type": "execute_result"
    }
   ],
   "source": [
    "# then map the function onto the list\n",
    "map(sqr, numbers) # note the different syntax/usage for a single input: e.g. sqr(6)"
   ]
  },
  {
   "cell_type": "markdown",
   "metadata": {},
   "source": [
    "Easy! We observe that `map` applies `sqr` function on every elements of the input list (i.e., `numbers`).\n",
    "\n",
    "Because map expects a function to be passed in, it also happens to be one of the places where `lambda` routinely appears. In fact, `lambda` (aka anonymous function) helps us to define functions on the fly without the need to be bounded to a name. This feature is very helpful when we do not need to call a function in different part of a code script (more reading: http://www.secnetix.de/olli/Python/lambda_functions.hawk)."
   ]
  },
  {
   "cell_type": "code",
   "execution_count": 3,
   "metadata": {
    "collapsed": false
   },
   "outputs": [
    {
     "data": {
      "text/plain": [
       "[1, 4, 9, 16]"
      ]
     },
     "execution_count": 3,
     "metadata": {},
     "output_type": "execute_result"
    }
   ],
   "source": [
    "map((lambda x: x **2), numbers) # mapping with a lmbda function"
   ]
  },
  {
   "cell_type": "markdown",
   "metadata": {},
   "source": [
    "### Reducing Example (Summation)\n",
    "Recall from Example 1 that `map` gets a list, maps a function on all of the elements of the list and returns the result which is another list. In opposite, `reduce` gets a list, apply a function of its elements, but returns the result as a single number (not a list). For example, we can use `reduce` to compute sum of the elements of a list. Let’s see `reduce` in action: "
   ]
  },
  {
   "cell_type": "code",
   "execution_count": 4,
   "metadata": {
    "collapsed": false
   },
   "outputs": [
    {
     "data": {
      "text/plain": [
       "10"
      ]
     },
     "execution_count": 4,
     "metadata": {},
     "output_type": "execute_result"
    }
   ],
   "source": [
    "numbers = range(1,5)\n",
    "reduce((lambda x, y: x + y), numbers) # reduce 1,2,3,4 : 1 + 2 + 3 + 4 = 10"
   ]
  },
  {
   "cell_type": "markdown",
   "metadata": {},
   "source": [
    "Why 10? Because 1 + 2 + 3 + 4 = 10.\n",
    "\n",
    "Note that in the above statement, `x` and `y` are initially the first two elements of the list `numbers`. Then as they move along the data, `x` becomes the sum of the previous numbers while `y` indicates next element in the list. \n",
    "\n",
    "Here is the equivalent with a loop:"
   ]
  },
  {
   "cell_type": "code",
   "execution_count": 5,
   "metadata": {
    "collapsed": false
   },
   "outputs": [
    {
     "name": "stdout",
     "output_type": "stream",
     "text": [
      "10\n"
     ]
    }
   ],
   "source": [
    "x = numbers[0] # grab the first\n",
    "for y in numbers[1:]: # or use range(1, len(numbers) + 1)\n",
    "    x = x + y # multiply by the second and update\n",
    "    \n",
    "print(x)"
   ]
  },
  {
   "cell_type": "markdown",
   "metadata": {},
   "source": [
    "Now, let's combine all `lambda`, `map`, and `reduce` to calculate the sum of the squares of the elements of a list:"
   ]
  },
  {
   "cell_type": "code",
   "execution_count": 6,
   "metadata": {
    "collapsed": false
   },
   "outputs": [
    {
     "data": {
      "text/plain": [
       "30"
      ]
     },
     "execution_count": 6,
     "metadata": {},
     "output_type": "execute_result"
    }
   ],
   "source": [
    "numbers = range(1,5)\n",
    "reduce((lambda x, y: x+ y), map((lambda x: x **2), numbers)) # 1 + 4 + 9 + 16 = 30"
   ]
  },
  {
   "cell_type": "markdown",
   "metadata": {},
   "source": [
    "## Spark Map-Reduce\n",
    "Up to this point, we only saw some toy examples to learn how Map-Reduce works in action. Now, we implement a word count example using the actual Map-Reduce functions that will be run on Spark. The ultimate goal of this example is to count the number of each word (not the total number of all words) in the text file `spark.txt`.\n",
    "\n",
    "**Note 1:** While the main concpets are the same, there are some minor differences between `map` and `reduce` fucntions in Python and Spak. We will find out these differences soon.\n",
    "\n",
    "**Note 2:** This part is developed based on https://github.com/apache/spark/blob/master/examples/src/main/python/wordcount.py"
   ]
  },
  {
   "cell_type": "markdown",
   "metadata": {},
   "source": [
    "### Libraries and Data\n",
    "Let's start with loading the libraries"
   ]
  },
  {
   "cell_type": "code",
   "execution_count": 7,
   "metadata": {
    "collapsed": true
   },
   "outputs": [],
   "source": [
    "from __future__ import print_function # this version is Py2: print vs print()\n",
    "from pyspark import SparkContext, SparkConf\n",
    "from operator import add"
   ]
  },
  {
   "cell_type": "markdown",
   "metadata": {},
   "source": [
    "Note that a SparkContext is an object that represents a connection to a Spark cluster. We use this object to create Resilient Distributed Datasets (RDD) and broadcast variables on that cluster.\n",
    "\n",
    "Before going further, let's make sure there is no Spark Context running in the background."
   ]
  },
  {
   "cell_type": "code",
   "execution_count": 8,
   "metadata": {
    "collapsed": true
   },
   "outputs": [],
   "source": [
    "sc.stop() # sometimes you have to stop previous 'context', especially if it crashed"
   ]
  },
  {
   "cell_type": "markdown",
   "metadata": {},
   "source": [
    "Now, we initialize Spark and set a name for our example:"
   ]
  },
  {
   "cell_type": "code",
   "execution_count": 9,
   "metadata": {
    "collapsed": false
   },
   "outputs": [],
   "source": [
    "sc = SparkContext(conf=SparkConf(), appName='PyWordCount')"
   ]
  },
  {
   "cell_type": "markdown",
   "metadata": {},
   "source": [
    "Here we load a text file `spark.txt`. The function `textFile` reads and submits a text file to Spark. Indeed, each line of the text file is considered as one independent element. The `textFile` function also splits and distributes the data over some partitions. "
   ]
  },
  {
   "cell_type": "code",
   "execution_count": 10,
   "metadata": {
    "collapsed": false
   },
   "outputs": [
    {
     "name": "stdout",
     "output_type": "stream",
     "text": [
      "MapPartitionsRDD[1] at textFile at NativeMethodAccessorImpl.java:-2\n"
     ]
    }
   ],
   "source": [
    "inputRDD = sc.textFile(\"./spark.txt\")\n",
    "print(inputRDD)"
   ]
  },
  {
   "cell_type": "markdown",
   "metadata": {},
   "source": [
    "To find out the number of partitions and the size of RDD (the total number of elements) we can simply call `getNumPartitions` and `count` methods, respectively."
   ]
  },
  {
   "cell_type": "code",
   "execution_count": 11,
   "metadata": {
    "collapsed": false
   },
   "outputs": [
    {
     "name": "stdout",
     "output_type": "stream",
     "text": [
      "The number of partitions:  2 \n",
      "The total number of elements:  7\n"
     ]
    }
   ],
   "source": [
    "print('The number of partitions: ',inputRDD.getNumPartitions(),\n",
    "      '\\nThe total number of elements: ', inputRDD.count())"
   ]
  },
  {
   "cell_type": "code",
   "execution_count": 12,
   "metadata": {
    "collapsed": false
   },
   "outputs": [
    {
     "data": {
      "text/plain": [
       "2"
      ]
     },
     "execution_count": 12,
     "metadata": {},
     "output_type": "execute_result"
    }
   ],
   "source": [
    "inputRDD.mapPartitions(lambda m: [1]).reduce(lambda a,b: a+b)"
   ]
  },
  {
   "cell_type": "code",
   "execution_count": 13,
   "metadata": {
    "collapsed": false
   },
   "outputs": [
    {
     "data": {
      "text/plain": [
       "739"
      ]
     },
     "execution_count": 13,
     "metadata": {},
     "output_type": "execute_result"
    }
   ],
   "source": [
    "inputRDD.map(lambda m: len(m)).reduce(lambda a,b: a+b)"
   ]
  },
  {
   "cell_type": "markdown",
   "metadata": {},
   "source": [
    "Before going further, let's take a look at the file"
   ]
  },
  {
   "cell_type": "code",
   "execution_count": 14,
   "metadata": {
    "collapsed": false
   },
   "outputs": [
    {
     "name": "stdout",
     "output_type": "stream",
     "text": [
      "These examples give a quick overview of the Spark API. \r",
      "\r\n",
      "Spark is built on the concept of distributed datasets, which contain arbitrary Java or Python objects. \r",
      "\r\n",
      "You create a dataset from external data, then apply parallel operations to it. \r",
      "\r\n",
      "The building block of the Spark API is its RDD API. In the RDD API, there are two types of operations: transformations, which define a new dataset based on previous ones, and actions, which kick off a job to execute on a cluster.\r",
      "\r\n",
      "On top of Spark�s RDD API, high level APIs are provided, e.g.DataFrame API and Machine Learning API. \r",
      "\r\n",
      "These high level APIs provide a concise way to conduct certain data operations. \r",
      "\r\n",
      "In this page, we will show examples using RDD API as well as examples using high level APIs."
     ]
    }
   ],
   "source": [
    "! cat ./spark.txt"
   ]
  },
  {
   "cell_type": "markdown",
   "metadata": {},
   "source": [
    "### Mappings\n",
    "Here we use three built-in mapping methods from Spark: `map`, `flatMap`, and `mapPartitions`. The `map` returns a new RDD by applying a function to each element of the input RDD. Therefore, for each single element in input RDD we will have exactly one element in output RDD (1-to-1 mapping).\n",
    "The `flatMap` applies a function on all elements, then returns the flattened results. This means we may have a list of returned results for each single input (1-to-N mapping). Finally, the `mapPartitions` applies a function on every partitions (not elements) of the RDD.\n",
    "\n",
    "Let's do some simple expriments to understand the differences between `map` and `mapPartisions` (which we will extensively use in the this and other activities). Suppose we want to count the number of elements (in this example the number of lines) in our RDD. To find out this number, we map every elements to a single value `1`. Then we sum up all these `1`s which gives us the total number of elements:"
   ]
  },
  {
   "cell_type": "code",
   "execution_count": 15,
   "metadata": {
    "collapsed": false
   },
   "outputs": [
    {
     "data": {
      "text/plain": [
       "7"
      ]
     },
     "execution_count": 15,
     "metadata": {},
     "output_type": "execute_result"
    }
   ],
   "source": [
    "inputRDD.map(lambda m: 1).reduce(lambda a,b: a+b) # = inputRDD.inputRDD.count()"
   ]
  },
  {
   "cell_type": "markdown",
   "metadata": {},
   "source": [
    "To count the number of partitions, we redo the above expression but using `mapPartitions`. Indeed, we map each partition into a partition which only has one `[1]` and then sum up these values. Note that we have to use `[1]` instead of `1` as the partitions has to be an iterator (i.e., lists as opposed to single values)"
   ]
  },
  {
   "cell_type": "code",
   "execution_count": 16,
   "metadata": {
    "collapsed": false
   },
   "outputs": [
    {
     "data": {
      "text/plain": [
       "2"
      ]
     },
     "execution_count": 16,
     "metadata": {},
     "output_type": "execute_result"
    }
   ],
   "source": [
    "inputRDD.mapPartitions(lambda m: [1]).reduce(lambda a,b: a+b) # = inputRDD.getNumPartitions()"
   ]
  },
  {
   "cell_type": "markdown",
   "metadata": {},
   "source": [
    "** Question 1:** How we can count the number of characters in the text file using `map` and `reduce` functions?"
   ]
  },
  {
   "cell_type": "markdown",
   "metadata": {},
   "source": [
    "Back to our main problem, we intend to calculate the frequency of each word in the document. Therefore, we use `flatMap` to split the text file into single words (so the input elements are lines and the outputs are lists of words in each line). Then we use `map` to create tuples of the form `<key, value>`. Here, `key` is nothing but a single word that was previously generated by `flatMap`, and the `value`s are always `1`.\n",
    "\n",
    "One may ask \"*why we set all the values equal to 1 regardless of their keys?*\", or even \"*why we need such tuples, anyway?*\". The answer is that the key-value tuples are the common way of intraction between the \"distributed mapers\" and the \"central reducer\". Indeed, the logic behind having this special mapping in this example is that every single word that a mapper receives is counted as one more observation. Therefore the value of that key should be `1`. In the final stage, the reducer groups all tuples with the same keys and then adds their values. Therefore, if a certain word has been seen for $N$ times (no matter how many mapper we had), the reducer gets $N$ tuples with that specfic word as the key. Ironically, the sum of $N$ `1`s is nothing but $N$ which is exactly the number of occurrence of that word. \n",
    "\n",
    "Now that we know the logic behind the mapping and reducing, let's do the splitting to get the list of words:"
   ]
  },
  {
   "cell_type": "code",
   "execution_count": 17,
   "metadata": {
    "collapsed": false
   },
   "outputs": [
    {
     "name": "stdout",
     "output_type": "stream",
     "text": [
      "PythonRDD[7] at RDD at PythonRDD.scala:43\n"
     ]
    }
   ],
   "source": [
    "words = inputRDD.flatMap(lambda x: x.split(' '))\n",
    "print(words)"
   ]
  },
  {
   "cell_type": "markdown",
   "metadata": {},
   "source": [
    "... and then generating < word, 1> tuples"
   ]
  },
  {
   "cell_type": "code",
   "execution_count": 18,
   "metadata": {
    "collapsed": false
   },
   "outputs": [
    {
     "name": "stdout",
     "output_type": "stream",
     "text": [
      "PythonRDD[8] at RDD at PythonRDD.scala:43\n"
     ]
    }
   ],
   "source": [
    "wordsOne = words.map(lambda x: (x, 1))\n",
    "print(wordsOne)"
   ]
  },
  {
   "cell_type": "markdown",
   "metadata": {},
   "source": [
    "### Reducing\n",
    "As mentioned before, our reducer only need to group the < word, 1 > tuples by their keys and add their values to calculate the number of times that word was observed in the text file. To do so, we use `reduceByKy` method (instead of `reduce` which ignores keys), and declare we want to calculate the sum of the values by seting its input parameter as `add`."
   ]
  },
  {
   "cell_type": "code",
   "execution_count": 19,
   "metadata": {
    "collapsed": false
   },
   "outputs": [
    {
     "name": "stdout",
     "output_type": "stream",
     "text": [
      "PythonRDD[13] at RDD at PythonRDD.scala:43\n"
     ]
    }
   ],
   "source": [
    "wordCounts = wordsOne.reduceByKey(add)\n",
    "print(wordCounts)"
   ]
  },
  {
   "cell_type": "markdown",
   "metadata": {},
   "source": [
    "### Collecting\n",
    "Now, the only thing remians is to collect the result. Indeed, up to this point Spark did not touched our data! By calling `collect` method, Spark does all the above steps and returns the results\n"
   ]
  },
  {
   "cell_type": "code",
   "execution_count": 20,
   "metadata": {
    "collapsed": false
   },
   "outputs": [],
   "source": [
    "output = wordCounts.collect() "
   ]
  },
  {
   "cell_type": "code",
   "execution_count": 21,
   "metadata": {
    "collapsed": false
   },
   "outputs": [
    {
     "data": {
      "text/plain": [
       "[(u'', 5),\n",
       " (u'operations', 1),\n",
       " (u'page,', 1),\n",
       " (u'Java', 1),\n",
       " (u'well', 1),\n",
       " (u'is', 2),\n",
       " (u'APIs.', 1),\n",
       " (u'Machine', 1),\n",
       " (u'as', 2),\n",
       " (u'You', 1)]"
      ]
     },
     "execution_count": 21,
     "metadata": {},
     "output_type": "execute_result"
    }
   ],
   "source": [
    "# Print the 10 first entries of the result\n",
    "output[:10]"
   ]
  },
  {
   "cell_type": "markdown",
   "metadata": {},
   "source": [
    "As we see, the output entries have no specific order (e.g., alphabetically, order of occurrence or frequency of occurrence) because behind the scene Spark shuffles the inputs of the reducer(s). \n",
    "\n",
    "To see the top ten frequent words, we can sort the output elements and print them:"
   ]
  },
  {
   "cell_type": "code",
   "execution_count": 22,
   "metadata": {
    "collapsed": false
   },
   "outputs": [
    {
     "data": {
      "text/plain": [
       "[(u'a', 6),\n",
       " (u'', 5),\n",
       " (u'of', 5),\n",
       " (u'the', 4),\n",
       " (u'RDD', 4),\n",
       " (u'which', 3),\n",
       " (u'Spark', 3),\n",
       " (u'API.', 3),\n",
       " (u'high', 3),\n",
       " (u'examples', 3)]"
      ]
     },
     "execution_count": 22,
     "metadata": {},
     "output_type": "execute_result"
    }
   ],
   "source": [
    "sorted(output, key=lambda x: x[1], reverse = True)[0:10] # top 10 "
   ]
  },
  {
   "cell_type": "markdown",
   "metadata": {},
   "source": [
    "### Compact Version\n",
    "Using the power of piplining, we could do all the above steps in a very compact way:"
   ]
  },
  {
   "cell_type": "code",
   "execution_count": 23,
   "metadata": {
    "collapsed": false
   },
   "outputs": [
    {
     "data": {
      "text/plain": [
       "[(u'a', 6),\n",
       " (u'', 5),\n",
       " (u'of', 5),\n",
       " (u'the', 4),\n",
       " (u'RDD', 4),\n",
       " (u'which', 3),\n",
       " (u'Spark', 3),\n",
       " (u'API.', 3),\n",
       " (u'high', 3),\n",
       " (u'examples', 3)]"
      ]
     },
     "execution_count": 23,
     "metadata": {},
     "output_type": "execute_result"
    }
   ],
   "source": [
    "sc.stop() # stop previous 'context'\n",
    "sc = SparkContext(appName=\"PythonWordCount\") # create a new context\n",
    "# the following does all the job at once:\n",
    "output = sc.textFile(\"./spark.txt\").flatMap(lambda x: x.split(' ')).map(lambda x: (x, 1)).reduceByKey(add).collect()\n",
    "# and the output:\n",
    "sorted(output, key=lambda x: x[1], reverse = True)[0:10] # top 10 "
   ]
  }
 ],
 "metadata": {
  "anaconda-cloud": {},
  "kernelspec": {
   "display_name": "Python [Root]",
   "language": "python",
   "name": "Python [Root]"
  },
  "language_info": {
   "codemirror_mode": {
    "name": "ipython",
    "version": 3
   },
   "file_extension": ".py",
   "mimetype": "text/x-python",
   "name": "python",
   "nbconvert_exporter": "python",
   "pygments_lexer": "ipython3",
   "version": "3.5.2"
  },
  "widgets": {
   "state": {},
   "version": "1.1.2"
  }
 },
 "nbformat": 4,
 "nbformat_minor": 0
}
