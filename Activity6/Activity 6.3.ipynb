{
 "cells": [
  {
   "cell_type": "markdown",
   "metadata": {},
   "source": [
    "# Activity 6.3 KMeans with Spark\n",
    "In this activity we implement K-means Clustering algorithm with Map-Reduce using Spark and Python 2. This activity helps you to complete Assignment 4."
   ]
  },
  {
   "cell_type": "markdown",
   "metadata": {},
   "source": [
    "## Libraries\n",
    "Let's start with loading the required libraries."
   ]
  },
  {
   "cell_type": "code",
   "execution_count": 1,
   "metadata": {
    "collapsed": true
   },
   "outputs": [],
   "source": [
    "from __future__ import print_function\n",
    "import numpy as np\n",
    "from pyspark import SparkContext\n",
    "from operator import add # for adding in reduce and reduceByKey \n",
    "import matplotlib.pyplot as plt"
   ]
  },
  {
   "cell_type": "markdown",
   "metadata": {},
   "source": [
    "## Auxiliary Function\n",
    "Before going further, let's define an auxiliary function that gets a datapoint `x`, list of cluster centers `mu` and the number of clusters `K`. The objective of this function is to calculate the distance between `x` and each cluster center in `mu`, then assign `x` to its nearest cluster center. We will call this function several times."
   ]
  },
  {
   "cell_type": "code",
   "execution_count": 2,
   "metadata": {
    "collapsed": false
   },
   "outputs": [],
   "source": [
    "# finds the closest cluster center (mu) to each point x\n",
    "def cluster(x, mu, K):\n",
    "    dist = range(K)\n",
    "    for i in range(K):\n",
    "        dist[i] = np.sum((x - mu[i]) ** 2)\n",
    "    return np.argmin(dist)"
   ]
  },
  {
   "cell_type": "markdown",
   "metadata": {},
   "source": [
    "## Data\n",
    "Now, we take a quick look at the data set that we are going to use here. "
   ]
  },
  {
   "cell_type": "code",
   "execution_count": 3,
   "metadata": {
    "collapsed": false
   },
   "outputs": [
    {
     "name": "stdout",
     "output_type": "stream",
     "text": [
      "5.1,3.5,1.4,0.2\r",
      "\r\n",
      "4.9,3,1.4,0.2\r",
      "\r\n",
      "4.7,3.2,1.3,0.2\r",
      "\r\n",
      "4.6,3.1,1.5,0.2\r",
      "\r\n",
      "5,3.6,1.4,0.2\r",
      "\r\n",
      "5.4,3.9,1.7,0.4\r",
      "\r\n",
      "4.6,3.4,1.4,0.3\r",
      "\r\n",
      "5,3.4,1.5,0.2\r",
      "\r\n",
      "4.4,2.9,1.4,0.2\r",
      "\r\n",
      "4.9,3.1,1.5,0.1\r",
      "\r\n"
     ]
    }
   ],
   "source": [
    "!head ./irisK.csv"
   ]
  },
  {
   "cell_type": "markdown",
   "metadata": {},
   "source": [
    "Let's initiate Spark and then load and partition our data file. We also need to converet the strings (each `line`) into `float` numbers."
   ]
  },
  {
   "cell_type": "code",
   "execution_count": 4,
   "metadata": {
    "collapsed": true
   },
   "outputs": [],
   "source": [
    "sc.stop() # just in case there is something running in background!\n",
    "\n",
    "# initiates a Spark Context object\n",
    "sc = SparkContext(appName=\"KMeans\")\n",
    "    \n",
    "# reads the input files and devides it into partitions\n",
    "file = \"./irisK.csv\"\n",
    "lines = sc.textFile(file)"
   ]
  },
  {
   "cell_type": "markdown",
   "metadata": {},
   "source": [
    "Each element in `lines` is a string equvalent to one of the lines in the input file. We need to converet these strings to float numbers."
   ]
  },
  {
   "cell_type": "code",
   "execution_count": 5,
   "metadata": {
    "collapsed": false
   },
   "outputs": [],
   "source": [
    "# converet each line of the text data file into a NumPy Array of float numbers\n",
    "data = lines.map(lambda line: np.array([float(l) for l in line.split(',')])).cache()"
   ]
  },
  {
   "cell_type": "markdown",
   "metadata": {},
   "source": [
    "Now we have our data stored in `data` RDD. Each element of `data` is a NumPy vector of float numbers."
   ]
  },
  {
   "cell_type": "markdown",
   "metadata": {},
   "source": [
    "## KMeans\n",
    "### Initialization\n",
    "We need to set the number of clustes `K`, the maximum number of iterations `max_i` and the minimum threshold for progress at each iteration `prgrs_min`. By progress, we mean the sum of the distances between the current location of cluster centers and their previous locations. The value of `prgrs` can be used as a measure of convergence."
   ]
  },
  {
   "cell_type": "code",
   "execution_count": 6,
   "metadata": {
    "collapsed": true
   },
   "outputs": [],
   "source": [
    "K = 3   # number of clusters\n",
    "max_i = 100\n",
    "i = 0\n",
    "prgrs_min = float(0.001) # stopping threshold\n",
    "prgrs = [float('+inf')]"
   ]
  },
  {
   "cell_type": "markdown",
   "metadata": {},
   "source": [
    "The cluster centers should be initialized as well. As before, we randomly select `K` samples from the data as the initial cluster centers."
   ]
  },
  {
   "cell_type": "code",
   "execution_count": 7,
   "metadata": {
    "collapsed": false
   },
   "outputs": [
    {
     "name": "stdout",
     "output_type": "stream",
     "text": [
      "[array([ 5.2,  4.1,  1.5,  0.1]), array([ 5. ,  3.5,  1.3,  0.3]), array([ 5.2,  3.4,  1.4,  0.2])]\n"
     ]
    }
   ],
   "source": [
    "# randomly selects K data points from data as initial cluster centers\n",
    "mu = data.takeSample(withReplacement=False, num=K, seed=1234)\n",
    "print(mu)"
   ]
  },
  {
   "cell_type": "markdown",
   "metadata": {},
   "source": [
    "### KMeans Steps\n",
    "Before doing the actual clustering, let's take a few moments to review the main steps of Map-Reduce KMeans. \n",
    "#### 1: Cluster the Points\n",
    "The first thing we should do, is to find all data points that are associated to each particular cluster center. We need this information to be able to update the cluster centers by recalculating the average of their datapoints.  \n",
    "\n",
    "Recall that we previously defined `cluster` function that assigns each datapoint `x` to its nearest cluster center. Therefore, if we execute `data.map(lambda point: cluster(point, mu, K))` we can map every datapoints to the index of the cluster it belongs to. However, It is not enough; we need to calculate the sum and the total numebr of the points grouped by the cluster index. Therefore, we map each datapoint `x` to a triple `<index, x, 1>` where `index` is the cluster index. The following line performs this task (Note that`.collect()[1:6]` is added to the end to only display the 6 first element):"
   ]
  },
  {
   "cell_type": "code",
   "execution_count": 8,
   "metadata": {
    "collapsed": false
   },
   "outputs": [
    {
     "data": {
      "text/plain": [
       "[(2, (array([ 4.9,  3. ,  1.4,  0.2]), 1)),\n",
       " (1, (array([ 4.7,  3.2,  1.3,  0.2]), 1)),\n",
       " (1, (array([ 4.6,  3.1,  1.5,  0.2]), 1)),\n",
       " (1, (array([ 5. ,  3.6,  1.4,  0.2]), 1)),\n",
       " (0, (array([ 5.4,  3.9,  1.7,  0.4]), 1))]"
      ]
     },
     "execution_count": 8,
     "metadata": {},
     "output_type": "execute_result"
    }
   ],
   "source": [
    "indx_point_one = data.map(lambda x: (cluster(x, mu, K), (x, 1)))\n",
    "indx_point_one.collect()[1:6]"
   ]
  },
  {
   "cell_type": "markdown",
   "metadata": {},
   "source": [
    "#### 2) Cluster Size and Summation\n",
    "Since the `index` for all datapoints of a particular cluster is unique, our reducer can group the points that belong to each cluster, and then compute their sum (by adding all `x`s) and total number (by summation over all `1`s). We can easily do this task using `reduceByKey` function:"
   ]
  },
  {
   "cell_type": "code",
   "execution_count": 9,
   "metadata": {
    "collapsed": false
   },
   "outputs": [
    {
     "data": {
      "text/plain": [
       "[(0, (array([ 71.7,  47.1,  33. ,   9.3]), 12)),\n",
       " (2, (array([ 705.1,  342.3,  501.7,  165. ]), 117)),\n",
       " (1, (array([ 99.7,  68.7,  29.1,   5.5]), 21))]"
      ]
     },
     "execution_count": 9,
     "metadata": {},
     "output_type": "execute_result"
    }
   ],
   "source": [
    "indx_sum_num = indx_point_one.reduceByKey(lambda x1, x2: (x1[0] + x2[0], x1[1] + x2[1]))\n",
    "indx_sum_num.collect()"
   ]
  },
  {
   "cell_type": "markdown",
   "metadata": {},
   "source": [
    "Note that in the above expression, `x1[0]` is the datapoint array (i.e., `x` value from the triple) while `x1[1]` is always `1` (the last value in the triple). Each element of `indx_sum_num` has two parts. The first part is the cluster index, while the second part is an array containing the sum (as a vector) and the total number of datapoints (as single integer). "
   ]
  },
  {
   "cell_type": "markdown",
   "metadata": {},
   "source": [
    "#### 3) Cluster Mean\n",
    "Now we can calculate cluster means by dividing the cluster sums to the cluster sizes:"
   ]
  },
  {
   "cell_type": "code",
   "execution_count": 10,
   "metadata": {
    "collapsed": false
   },
   "outputs": [
    {
     "data": {
      "text/plain": [
       "[(0, array([ 5.975,  3.925,  2.75 ,  0.775])),\n",
       " (2, array([ 6.02649573,  2.92564103,  4.28803419,  1.41025641])),\n",
       " (1, array([ 4.74761905,  3.27142857,  1.38571429,  0.26190476]))]"
      ]
     },
     "execution_count": 10,
     "metadata": {},
     "output_type": "execute_result"
    }
   ],
   "source": [
    "indx_mu = indx_sum_num.map(lambda sum_num: (sum_num[0], sum_num[1][0] / sum_num[1][1]))\n",
    "indx_mu.collect()"
   ]
  },
  {
   "cell_type": "markdown",
   "metadata": {},
   "source": [
    "When the new cluster centers have been found by we should update the `mu` matrix and check whether the convergence criterion has been met. "
   ]
  },
  {
   "cell_type": "markdown",
   "metadata": {},
   "source": [
    "### KMeans Loop\n",
    "Let's put all these steps together and run our KMeans."
   ]
  },
  {
   "cell_type": "code",
   "execution_count": null,
   "metadata": {
    "collapsed": true
   },
   "outputs": [],
   "source": [
    "for i in range(max_i) :\n",
    "    prgrs.append(float('+inf'))\n",
    "    ## for each point find the closest cluster centerand returns <clusterIndex, point, 1>\n",
    "    indx_point_one = data.map(lambda x: (cluster(x, mu, K), (x, 1)))\n",
    "    \n",
    "    ## for each cluster calculate the sum and the total number of its points\n",
    "    indx_sum_num = indx_point_one.reduceByKey(lambda x1, x2: (x1[0] + x2[0], x1[1] + x2[1]))\n",
    "\n",
    "    ## for each cluster\n",
    "    indx_mu = indx_sum_num.map(lambda sum_num: (sum_num[0], sum_num[1][0] / sum_num[1][1])).collect()\n",
    "\n",
    "   \n",
    "    ## update mu\n",
    "    prgrs[i] = 0\n",
    "    for (iK, iMu) in indx_mu:\n",
    "        prgrs[i] += np.sum((mu[iK] - iMu) ** 2)\n",
    "        mu[iK] = iMu\n",
    "\n",
    "    if prgrs[i] <= prgrs_min: break"
   ]
  },
  {
   "cell_type": "markdown",
   "metadata": {},
   "source": [
    "Done! Let's print the cluster centers..."
   ]
  },
  {
   "cell_type": "code",
   "execution_count": 14,
   "metadata": {
    "collapsed": false,
    "scrolled": true
   },
   "outputs": [
    {
     "name": "stdout",
     "output_type": "stream",
     "text": [
      "Final centers: \n",
      "[ 5.28333333  3.70833333  1.49166667  0.27916667]\n",
      "[ 4.77586207  3.07241379  1.62068966  0.29655172]\n",
      "[ 6.30103093  2.88659794  4.95876289  1.69587629]\n"
     ]
    }
   ],
   "source": [
    "print(\"Final centers: \" ) \n",
    "for center in mu: print(center)"
   ]
  },
  {
   "cell_type": "markdown",
   "metadata": {},
   "source": [
    "...and draw the convergence plot"
   ]
  },
  {
   "cell_type": "code",
   "execution_count": 12,
   "metadata": {
    "collapsed": false
   },
   "outputs": [
    {
     "data": {
      "image/png": "[encoded data removed]",
      "text/plain": [
       "<matplotlib.figure.Figure at 0x7f3b702fbb90>"
      ]
     },
     "metadata": {},
     "output_type": "display_data"
    }
   ],
   "source": [
    "%matplotlib inline\n",
    "prgrs = [p for p in prgrs if p<1]\n",
    "plt.plot(prgrs)\n",
    "plt.title('Convergence Plot')\n",
    "plt.xlabel('i')\n",
    "plt.ylabel('prgs')\n",
    "plt.show()"
   ]
  },
  {
   "cell_type": "markdown",
   "metadata": {},
   "source": [
    "## Discussions"
   ]
  }
 ],
 "metadata": {
  "kernelspec": {
   "display_name": "Python 2",
   "language": "python",
   "name": "python2"
  },
  "language_info": {
   "codemirror_mode": {
    "name": "ipython",
    "version": 2
   },
   "file_extension": ".py",
   "mimetype": "text/x-python",
   "name": "python",
   "nbconvert_exporter": "python",
   "pygments_lexer": "ipython2",
   "version": "2.7.11"
  },
  "widgets": {
   "state": {},
   "version": "1.1.2"
  }
 },
 "nbformat": 4,
 "nbformat_minor": 0
}
