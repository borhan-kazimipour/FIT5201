{
 "cells": [
  {
   "cell_type": "markdown",
   "metadata": {},
   "source": [
    "# Activity 6.2 Linear Regression in Spark\n",
    "In this activity we implement a basic linear regression using Map-Reduce and run it on Spark. From Chapter 6.2 recall that the calculation of the gradient is the computation intensive part of batch gradient descent for linear regression models. Fortunately, we can paralelalise this part of the algorithm to achinve a better performance (in terms of computation time).\n",
    "\n",
    "**Note:** This activity is developed based on:\n",
    "https://github.com/apache/spark/blob/master/examples/src/main/python/logistic_regression.py"
   ]
  },
  {
   "cell_type": "code",
   "execution_count": 2,
   "metadata": {
    "collapsed": true
   },
   "outputs": [],
   "source": [
    "import matplotlib.pyplot as plt\n",
    "import numpy as np # numpy provides lots of math functions\n",
    "from __future__ import print_function\n",
    "from pyspark import SparkContext"
   ]
  },
  {
   "cell_type": "markdown",
   "metadata": {},
   "source": [
    "## Auxiliary Functions\n",
    "Let's start with defining some auxiliray functions to make our code clean and clear. The first function is the `add` function that we will use it in the `reduce` method. "
   ]
  },
  {
   "cell_type": "code",
   "execution_count": 3,
   "metadata": {
    "collapsed": true
   },
   "outputs": [],
   "source": [
    "# add function!\n",
    "def add(x,y): return x + y"
   ]
  },
  {
   "cell_type": "markdown",
   "metadata": {},
   "source": [
    "This is the `readPointBatch` fucntion  that will be used as a partition mapper. Indeed, `readPointBatch` maps the text partitions, that were produced by `textFile` function,  into partitions contatining a chunk of the data matrix (i.e., batches of float numbers). To be able to implement our algorithm using Spark features, the data has to be in certain format. For example, in this activity we assume that our data is space ' ' separated and stored in $<label> <x_1> <x_2> \\dots <x_D>$ format ($D$ is number of dimensions and $label$ is numeric)."
   ]
  },
  {
   "cell_type": "code",
   "execution_count": 4,
   "metadata": {
    "collapsed": true
   },
   "outputs": [],
   "source": [
    "# the following function converts the content of the file to an specific convention (will be discussed)\n",
    "# it also partitiones data to some batches\n",
    "def readPointBatch(iterator,D):\n",
    "    strs = list(iterator)\n",
    "    matrix = np.zeros((len(strs), D + 1))\n",
    "    for i, s in enumerate(strs):\n",
    "        matrix[i] = np.fromstring(s.replace(',', ' '), dtype=np.float32, sep=' ')\n",
    "    return [matrix]"
   ]
  },
  {
   "cell_type": "markdown",
   "metadata": {},
   "source": [
    "Here we implement a simple function that will be helpfull in counting the number of datapoints."
   ]
  },
  {
   "cell_type": "code",
   "execution_count": 5,
   "metadata": {
    "collapsed": true
   },
   "outputs": [],
   "source": [
    "# Returns the number of points in a matrix\n",
    "def num_points(matrix):\n",
    "    return np.size(matrix,1)"
   ]
  },
  {
   "cell_type": "markdown",
   "metadata": {},
   "source": [
    "Now, let us define the  `gradient` and `error` functions. They get data as `matrix` and weight vector `w`, and then compute the gradeint and the error according to the given weight vector. We will use these functions in the body of our linear regression code."
   ]
  },
  {
   "cell_type": "code",
   "execution_count": 6,
   "metadata": {
    "collapsed": false
   },
   "outputs": [],
   "source": [
    "# Computes linear regression gradient for a matrix of data points\n",
    "def gradient(matrix, w):\n",
    "    T = matrix[:, 0]    # point labels (first column of input file)\n",
    "    X = matrix[:, 1:]   # point coordinates\n",
    "    X = np.concatenate((X, np.ones((np.size(X,0),1))), axis=1) # add a column of all 1 (for intercept)\n",
    "    # For each point (x, y), compute gradient function, then sum these up\n",
    "    return (-(T-X.dot(w)) * X.T).sum(1)\n",
    "\n",
    "# Computes the training error of the given data (matrix)\n",
    "def error(matrix, w):\n",
    "    T = matrix[:, 0]    # point labels (first column of input file)\n",
    "    X = matrix[:, 1:]   # point coordinates\n",
    "    X = np.concatenate((X, np.ones((np.size(X,0),1))), axis=1) # add a column of all 1 (for intercept)\n",
    "    # For each point (x, y), compute gradient function, then sum these up\n",
    "    return ((T-X.dot(w))**2).sum(0)\n"
   ]
  },
  {
   "cell_type": "markdown",
   "metadata": {},
   "source": [
    "## Data\n",
    "Here, we create an Spark Context object, then read `LR_small.csv` file and slipt it into some partitions using `textFile` function."
   ]
  },
  {
   "cell_type": "code",
   "execution_count": 7,
   "metadata": {
    "collapsed": false
   },
   "outputs": [
    {
     "name": "stdout",
     "output_type": "stream",
     "text": [
      "15.2306114085435,1.75950063212509,0.294971276590044,0.0227169929355219,-0.776138189567377,-0.150155898031874,0.403247739988761,1.45590127802096,2.96063439859703,0.659921119676468,0.503935021819967\r",
      "\r\n",
      "21.0794747912023,0.67162075775209,0.318028893848439,0.622494365889553,0.620427476079081,-0.517798639281123,1.36043562440755,-0.338959993266462,1.17624173097219,0.397550204420852,2.94558490754999\r",
      "\r\n",
      "32.2110092367841,0.665508067881952,-0.338941026863734,2.00638441797567,0.277773873821185,0.471737329436623,0.148166488423676,0.671361913782469,0.500984658985886,0.901695285362934,1.15337845186424\r",
      "\r\n",
      "30.6320519229193,0.0791468620838836,-0.914062848484401,-0.0587639170364419,0.223213119649714,0.964962108814435,1.23868047810971,-2.00224447540798,0.0739783801991804,0.300527612949985,-1.34537964435454\r",
      "\r\n",
      "31.8788824580358,0.550740756579486,0.248873615876031,0.033313832093629,0.559606665724997,-0.582384249448539,0.126167677363352,-0.126508647389784,-1.23116316475166,1.02365966191829,0.346478436733037\r",
      "\r\n",
      "42.0987971155355,0.0567227047663041,-0.736312284391046,0.868231024468119,1.59002149495523,-0.362456446353642,1.05381026510739,0.702300412107003,-1.40684022320326,1.676169355935,0.177637252541911\r",
      "\r\n",
      "16.6145511199745,-1.21543538511763,-0.862940388413092,-0.693026314196571,1.66315211508538,-0.54597047848206,-1.20885450419493,0.108690364352581,1.20890389431148,-2.29207682681525,0.325665051745599\r",
      "\r\n",
      "8.04026890768856,0.113265796089827,-1.05787286175932,0.0360661972691989,-1.85294515009871,-0.450511650994497,-0.237310554205392,-0.251885087051611,-0.696901042439571,-1.14246702776361,1.23940534300231\r",
      "\r\n",
      "36.2406739010511,1.36723504874826,-0.803092811045523,0.271154144184996,-0.171883319453584,-0.976451010784578,-0.662063826984902,0.234703638848023,1.4450524887899,1.18492519577509,-0.883267403866549\r",
      "\r\n",
      "45.5247518911001,1.6675872724652,-0.652354638187269,-1.4127155696086,1.37902345396802,1.09520742804393,0.646937045698563,0.298789361900239,-0.539352893869873,1.06296684614244,-1.37508939793364\r",
      "\r\n"
     ]
    }
   ],
   "source": [
    "# Initiate Spark\n",
    "sc.stop()  # just in case there is a crashed/running context!\n",
    "sc = SparkContext() # initiate an new context\n",
    "# Read and distribute the file \n",
    "points = sc.textFile(\"./LR_small.csv\")\n",
    "# in case you want to take a look at the data (each line contains 1 target and 10 predictor values)\n",
    "!head ./LR_all.csv "
   ]
  },
  {
   "cell_type": "markdown",
   "metadata": {},
   "source": [
    "Now, we need to convert the text strings into matrices using `readPointBatch` function. Note that each partition of the input text should be convereted to a single matrix (that's why we use `mapPartitions`). When the convertion is done, we store the matrices in cashe for future uses."
   ]
  },
  {
   "cell_type": "code",
   "execution_count": 8,
   "metadata": {
    "collapsed": true
   },
   "outputs": [],
   "source": [
    "D = 10   # Number of dimensions.\n",
    "# read batch of points and store in cache\n",
    "points = points.mapPartitions(lambda j: readPointBatch(j,D)).cache() "
   ]
  },
  {
   "cell_type": "markdown",
   "metadata": {},
   "source": [
    "## Linear Regression\n",
    "The follwoing is our Linear Regression implementation using Spark. Let's start with the initializations."
   ]
  },
  {
   "cell_type": "code",
   "execution_count": 9,
   "metadata": {
    "collapsed": true
   },
   "outputs": [],
   "source": [
    "# initalizations:\n",
    "N = points.map(lambda m: num_points(m)).reduce(add)\n",
    "iterations = 500 # linear regression maximum iterations\n",
    "errors = np.zeros((iterations+1, 1))\n",
    "weights = np.zeros((iterations+1, D + 1))\n",
    "eta = 0.0001 # initial value for learning rate\n",
    "w = 2 * np.random.ranf(size=(D+1)) - 1 # Initialize w to random values [-1,1]"
   ]
  },
  {
   "cell_type": "markdown",
   "metadata": {},
   "source": [
    "Now, we can run the main loop. The key line in this loop is `w -= points.map(lambda m: gradient(m, w)).reduce(add) * eta` which updates the weight vector `w` based on the sum of the gradeints (multiplied by the learning rate `eta`). "
   ]
  },
  {
   "cell_type": "code",
   "execution_count": 10,
   "metadata": {
    "collapsed": false,
    "scrolled": false
   },
   "outputs": [
    {
     "name": "stdout",
     "output_type": "stream",
     "text": [
      "On iteration 1 Error: 14.333726\n",
      "On iteration 11 Error: 12.890932\n",
      "On iteration 21 Error: 11.646359\n",
      "On iteration 31 Error: 10.572582\n",
      "On iteration 41 Error: 9.646236\n",
      "On iteration 51 Error: 8.847354\n",
      "On iteration 61 Error: 8.158821\n",
      "On iteration 71 Error: 7.565912\n",
      "On iteration 81 Error: 7.055906\n",
      "On iteration 91 Error: 6.617776\n",
      "On iteration 101 Error: 6.241927\n",
      "On iteration 111 Error: 5.919986\n",
      "On iteration 121 Error: 5.644637\n",
      "On iteration 131 Error: 5.409479\n",
      "On iteration 141 Error: 5.208916\n",
      "On iteration 151 Error: 5.038066\n",
      "On iteration 161 Error: 4.892673\n",
      "On iteration 171 Error: 4.769046\n",
      "On iteration 181 Error: 4.663990\n",
      "On iteration 191 Error: 4.574748\n",
      "On iteration 201 Error: 4.498955\n",
      "On iteration 211 Error: 4.434582\n",
      "On iteration 221 Error: 4.379899\n",
      "On iteration 231 Error: 4.333432\n",
      "On iteration 241 Error: 4.293927\n",
      "On iteration 251 Error: 4.260322\n",
      "On iteration 261 Error: 4.231715\n",
      "On iteration 271 Error: 4.207346\n",
      "On iteration 281 Error: 4.186568\n",
      "On iteration 291 Error: 4.168837\n",
      "On iteration 301 Error: 4.153693\n",
      "On iteration 311 Error: 4.140745\n",
      "On iteration 321 Error: 4.129664\n",
      "On iteration 331 Error: 4.120172\n",
      "On iteration 341 Error: 4.112032\n",
      "On iteration 351 Error: 4.105046\n",
      "On iteration 361 Error: 4.099043\n",
      "On iteration 371 Error: 4.093879\n",
      "On iteration 381 Error: 4.089434\n",
      "On iteration 391 Error: 4.085603\n",
      "On iteration 401 Error: 4.082297\n",
      "On iteration 411 Error: 4.079443\n",
      "On iteration 421 Error: 4.076976\n",
      "On iteration 431 Error: 4.074841\n",
      "On iteration 441 Error: 4.072992\n",
      "On iteration 451 Error: 4.071389\n",
      "On iteration 461 Error: 4.069998\n",
      "On iteration 471 Error: 4.068790\n",
      "On iteration 481 Error: 4.067739\n",
      "On iteration 491 Error: 4.066825\n"
     ]
    }
   ],
   "source": [
    "# Linear Regression MAIN loop\n",
    "for i in range(iterations):\n",
    "    # keep the record of errors\n",
    "    errors[i, 0] = (points.map(lambda m: error(m, w)).reduce(add))**(0.5)/N\n",
    "    # keep the record of weights\n",
    "    weights[i,:] = w\n",
    "    # display the progress every 10 iterations\n",
    "    if i%10 ==0:\n",
    "        print(\"On iteration %i Error: %f\" % (i + 1,  errors[i,0]))\n",
    "    # calculate the new weights\n",
    "    w -= points.map(lambda m: gradient(m, w)).reduce(add) * eta # map & reduce!\n",
    "    # decrease the learning rate (for convergence)\n",
    "    eta = eta * 0.9999"
   ]
  },
  {
   "cell_type": "markdown",
   "metadata": {},
   "source": [
    "Done! Let's see the final weights and error...."
   ]
  },
  {
   "cell_type": "code",
   "execution_count": 11,
   "metadata": {
    "collapsed": false
   },
   "outputs": [
    {
     "name": "stdout",
     "output_type": "stream",
     "text": [
      "Final w: [  1.1868586    2.09777429   0.25298232   2.4092738    2.92885362\n",
      "   2.02913539   2.16060976   0.61416484   1.54842508   2.03867811\n",
      "  28.84178787]\n",
      "Final error: 4.06602861095\n"
     ]
    }
   ],
   "source": [
    "errors[-1, 0] = (points.map(lambda m: error(m, w)).reduce(add))**(0.5)/N\n",
    "weights[-1,:] = w\n",
    "\n",
    "print(\"Final w: \" + str(w))\n",
    "print(\"Final error: \" + str((points.map(lambda m: error(m, w)).reduce(add))**(0.5)/N))\n",
    "sc.stop()"
   ]
  },
  {
   "cell_type": "markdown",
   "metadata": {},
   "source": [
    "... and draw the convergence plot."
   ]
  },
  {
   "cell_type": "code",
   "execution_count": 12,
   "metadata": {
    "collapsed": false
   },
   "outputs": [
    {
     "data": {
      "image/png": "[encoded data removed]",
      "text/plain": [
       "<matplotlib.figure.Figure at 0x7f70743c0d90>"
      ]
     },
     "metadata": {},
     "output_type": "display_data"
    }
   ],
   "source": [
    "%matplotlib inline\n",
    "plt.plot(errors)\n",
    "plt.title('Convergence Plot')\n",
    "plt.xlabel('iteration')\n",
    "plt.ylabel('error')\n",
    "plt.show()"
   ]
  },
  {
   "cell_type": "markdown",
   "metadata": {},
   "source": [
    "## Discussions"
   ]
  }
 ],
 "metadata": {
  "kernelspec": {
   "display_name": "Python 2",
   "language": "python",
   "name": "python2"
  },
  "language_info": {
   "codemirror_mode": {
    "name": "ipython",
    "version": 2
   },
   "file_extension": ".py",
   "mimetype": "text/x-python",
   "name": "python",
   "nbconvert_exporter": "python",
   "pygments_lexer": "ipython2",
   "version": "2.7.11"
  },
  "widgets": {
   "state": {},
   "version": "1.1.2"
  }
 },
 "nbformat": 4,
 "nbformat_minor": 0
}
