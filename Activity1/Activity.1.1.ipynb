{
 "cells": [
  {
   "cell_type": "markdown",
   "metadata": {},
   "source": [
    "#  Activity 1. K-Nearest Neighbour Classifier\n",
    "### Background\n",
    "In this activity, we learn how [K-Nearest Neighbors (KNN)](https://saravananthirumuruganathan.wordpress.com/2010/05/17/a-detailed-introduction-to-k-nearest-neighbor-knn-algorithm/) classifier works. KNN is a simple non-parametric model, which is an example of [instance-based](https://en.wikipedia.org/wiki/Instance-based_learning) supervised learning. We use KNN as a vehicle to practice some of the basic concepts of machine learning. KNN is a [lazy learner](https://en.wikipedia.org/wiki/Lazy_learning) that stores all training data points and their labels in memory, and predict the class label for a new data point based on its similarity to the training data (in fact the stored training data points can be considered as parameters).\n",
    "\n",
    "Consider a training dataset containing (x,t) pairs where $x$ is the input, and $t$ is the target class label. Suppose we have been given a similarity measure $sim(x_1,x_2)$ which gives the similarity score when fed with two data points. Given a test data point $x$, the K-nearest neighbour classifier works as follows:\n",
    "\n",
    "* Select the top K most similar data points to x from the training set\n",
    "* Look at the label of the K-nearest neighbours and select the label which has the majority vote.\n",
    "\n",
    "If the classes are equally common among the neighbours (e.g., two positive and two negative neighbours in binary classification when K=4), the test datapoint is randomly assigned to one of the classes. For example, **Figure A.1** (below) illustrates such situation where the test datapoint (shown by <span style=\"color: #00ff00;\">green</span>) has exactly two neighbours from each class (marked by <span style=\"color: #ff0000;\">red</span> and <span style=\"color: #3366ff;\">blue</span>).\n",
    "\n",
    "<a href=\"http://www.saedsayad.com/k_nearest_neighbors.htm\" rel=\"attachment wp-att-92100\"><img class=\"wp-image-92100 size-full\" src=\"https://www.alexandriarepository.org/wp-content/uploads/20160413152921/A.1.png\" alt=\"Figure A.1: KNN for Classification. The green dot indicates a sample with an unknown class label, while red and blue samples are training observation from default and non-default classes, respectively. Source: http://www.saedsayad.com/k_nearest_neighbors.htm\" width=\"497\" height=\"274\" /></a> \n",
    "\n",
    "> Figure A.1: KNN for Classification. The green dot indicates a sample with an unknown class label, while red and blue samples are training observation from default and non-default classes, respectively. Source: http://www.saedsayad.com/k_nearest_neighbors.htm"
   ]
  },
  {
   "cell_type": "markdown",
   "metadata": {},
   "source": [
    "### Further Materials\n",
    "This short <a href=\"https://www.youtube.com/watch?v=UqYde-LULfs\">YouTube video</a> explains KNN and related concepts in a very simple language."
   ]
  },
  {
   "cell_type": "markdown",
   "metadata": {},
   "source": [
    "# Steps for Activity 1\n",
    "<ol>\n",
    "\t<li>Load the iris dataset and divide it to separate training and testing sets,</li>\n",
    "    <li>Define a function that calculates the majority vote,</li>\n",
    "    <li>Define KNN function that takes training labeled samples, testing samples, $K$ and a distance metric and predicts the class labels for the testing samples,</li>\n",
    "\t<li>Apply KNN where for some values of $K$ and report training and testing error</li>\n",
    "\t<li>Plot training and testing error versus $1/K$ where $K \\in \\{1,\\cdots,100\\}$</li>\n",
    "</ol>"
   ]
  },
  {
   "cell_type": "markdown",
   "metadata": {},
   "source": [
    "# Implementation of the Above Steps\n",
    "Here, we implement a basic KNN classifier. Note that in Assignment 1, you will be asked to expand this implementation and build a KNN regressor. In this task, we use a simple, yet very popular, dataset to investigate the performance of our KNN. \n",
    "\n",
    "### Load and Explor Data\n",
    "Let us start with loading the libraries and dataset."
   ]
  },
  {
   "cell_type": "code",
   "execution_count": 1,
   "metadata": {},
   "outputs": [
    {
     "name": "stderr",
     "output_type": "stream",
     "text": [
      "corrplot 0.84 loaded\n"
     ]
    }
   ],
   "source": [
    "# load the libs\n",
    "library(reshape2)\n",
    "library(ggplot2)\n",
    "library(corrplot)\n",
    "library(plyr)"
   ]
  },
  {
   "cell_type": "code",
   "execution_count": 2,
   "metadata": {},
   "outputs": [
    {
     "data": {
      "text/html": [
       "<table>\n",
       "<caption>A data.frame: 6 × 5</caption>\n",
       "<thead>\n",
       "\t<tr><th scope=col>Sepal.Length</th><th scope=col>Sepal.Width</th><th scope=col>Petal.Length</th><th scope=col>Petal.Width</th><th scope=col>Species</th></tr>\n",
       "\t<tr><th scope=col>&lt;dbl&gt;</th><th scope=col>&lt;dbl&gt;</th><th scope=col>&lt;dbl&gt;</th><th scope=col>&lt;dbl&gt;</th><th scope=col>&lt;fct&gt;</th></tr>\n",
       "</thead>\n",
       "<tbody>\n",
       "\t<tr><td>5.1</td><td>3.5</td><td>1.4</td><td>0.2</td><td>setosa</td></tr>\n",
       "\t<tr><td>4.9</td><td>3.0</td><td>1.4</td><td>0.2</td><td>setosa</td></tr>\n",
       "\t<tr><td>4.7</td><td>3.2</td><td>1.3</td><td>0.2</td><td>setosa</td></tr>\n",
       "\t<tr><td>4.6</td><td>3.1</td><td>1.5</td><td>0.2</td><td>setosa</td></tr>\n",
       "\t<tr><td>5.0</td><td>3.6</td><td>1.4</td><td>0.2</td><td>setosa</td></tr>\n",
       "\t<tr><td>5.4</td><td>3.9</td><td>1.7</td><td>0.4</td><td>setosa</td></tr>\n",
       "</tbody>\n",
       "</table>\n"
      ],
      "text/latex": [
       "A data.frame: 6 × 5\n",
       "\\begin{tabular}{r|lllll}\n",
       " Sepal.Length & Sepal.Width & Petal.Length & Petal.Width & Species\\\\\n",
       " <dbl> & <dbl> & <dbl> & <dbl> & <fct>\\\\\n",
       "\\hline\n",
       "\t 5.1 & 3.5 & 1.4 & 0.2 & setosa\\\\\n",
       "\t 4.9 & 3.0 & 1.4 & 0.2 & setosa\\\\\n",
       "\t 4.7 & 3.2 & 1.3 & 0.2 & setosa\\\\\n",
       "\t 4.6 & 3.1 & 1.5 & 0.2 & setosa\\\\\n",
       "\t 5.0 & 3.6 & 1.4 & 0.2 & setosa\\\\\n",
       "\t 5.4 & 3.9 & 1.7 & 0.4 & setosa\\\\\n",
       "\\end{tabular}\n"
      ],
      "text/markdown": [
       "\n",
       "A data.frame: 6 × 5\n",
       "\n",
       "| Sepal.Length &lt;dbl&gt; | Sepal.Width &lt;dbl&gt; | Petal.Length &lt;dbl&gt; | Petal.Width &lt;dbl&gt; | Species &lt;fct&gt; |\n",
       "|---|---|---|---|---|\n",
       "| 5.1 | 3.5 | 1.4 | 0.2 | setosa |\n",
       "| 4.9 | 3.0 | 1.4 | 0.2 | setosa |\n",
       "| 4.7 | 3.2 | 1.3 | 0.2 | setosa |\n",
       "| 4.6 | 3.1 | 1.5 | 0.2 | setosa |\n",
       "| 5.0 | 3.6 | 1.4 | 0.2 | setosa |\n",
       "| 5.4 | 3.9 | 1.7 | 0.4 | setosa |\n",
       "\n"
      ],
      "text/plain": [
       "  Sepal.Length Sepal.Width Petal.Length Petal.Width Species\n",
       "1 5.1          3.5         1.4          0.2         setosa \n",
       "2 4.9          3.0         1.4          0.2         setosa \n",
       "3 4.7          3.2         1.3          0.2         setosa \n",
       "4 4.6          3.1         1.5          0.2         setosa \n",
       "5 5.0          3.6         1.4          0.2         setosa \n",
       "6 5.4          3.9         1.7          0.4         setosa "
      ]
     },
     "metadata": {},
     "output_type": "display_data"
    }
   ],
   "source": [
    "# Load data: it's built in to R, however, you can also get it online\n",
    "# iris <- read.csv(url(\"http://archive.ics.uci.edu/ml/machine-learning-databases/iris/iris.data\"), header = FALSE)\n",
    "library(datasets)\n",
    "data(iris)\n",
    "\n",
    "# take a look at the data\n",
    "head(iris)"
   ]
  },
  {
   "cell_type": "markdown",
   "metadata": {},
   "source": [
    "As shown there are are 4 measurements (petal & sepal width & length) for 3 species of iris flowers, where sepal is: \"One of the usually separate, green parts that surround and protect the flower bud\" (or petals)"
   ]
  },
  {
   "cell_type": "code",
   "execution_count": 3,
   "metadata": {},
   "outputs": [
    {
     "data": {
      "text/html": [
       "<ol class=list-inline>\n",
       "\t<li>150</li>\n",
       "\t<li>5</li>\n",
       "</ol>\n"
      ],
      "text/latex": [
       "\\begin{enumerate*}\n",
       "\\item 150\n",
       "\\item 5\n",
       "\\end{enumerate*}\n"
      ],
      "text/markdown": [
       "1. 150\n",
       "2. 5\n",
       "\n",
       "\n"
      ],
      "text/plain": [
       "[1] 150   5"
      ]
     },
     "metadata": {},
     "output_type": "display_data"
    }
   ],
   "source": [
    "dim(iris) # 150 x 5 records"
   ]
  },
  {
   "cell_type": "code",
   "execution_count": 4,
   "metadata": {},
   "outputs": [
    {
     "data": {
      "image/png": "[encoded data removed]",
      "text/plain": [
       "plot without title"
      ]
     },
     "metadata": {},
     "output_type": "display_data"
    }
   ],
   "source": [
    "# Some visualizations wont hurt!\n",
    "## the followin plot illustrates petal measurments:\n",
    "ggplot(data=iris, aes(x=Petal.Length, y=Petal.Width, color=Species)) +  # plot Width vs Length by Species \n",
    "    geom_point() +                # Make it a scatter with points\n",
    "    geom_rug() +                  # add the lines\n",
    "    theme_minimal() +             # give it a  theme\n",
    "    ggtitle(\"Petal Measurements\") # add a title"
   ]
  },
  {
   "cell_type": "code",
   "execution_count": 5,
   "metadata": {},
   "outputs": [
    {
     "data": {
      "image/png": "[encoded data removed]",
      "text/plain": [
       "Plot with title “”"
      ]
     },
     "metadata": {},
     "output_type": "display_data"
    }
   ],
   "source": [
    "## and this one shows the correlation between the features (input variables)\n",
    "corrplot.mixed(cor(iris[,-5]), lower=\"ellipse\", upper=\"number\")"
   ]
  },
  {
   "cell_type": "markdown",
   "metadata": {},
   "source": [
    "### Training and Testing Sets"
   ]
  },
  {
   "cell_type": "code",
   "execution_count": 6,
   "metadata": {},
   "outputs": [
    {
     "data": {
      "text/html": [
       "<table>\n",
       "<caption>A data.frame: 6 × 5</caption>\n",
       "<thead>\n",
       "\t<tr><th></th><th scope=col>Sepal.Length</th><th scope=col>Sepal.Width</th><th scope=col>Petal.Length</th><th scope=col>Petal.Width</th><th scope=col>Species</th></tr>\n",
       "\t<tr><th></th><th scope=col>&lt;dbl&gt;</th><th scope=col>&lt;dbl&gt;</th><th scope=col>&lt;dbl&gt;</th><th scope=col>&lt;dbl&gt;</th><th scope=col>&lt;fct&gt;</th></tr>\n",
       "</thead>\n",
       "<tbody>\n",
       "\t<tr><th scope=row>18</th><td>5.1</td><td>3.5</td><td>1.4</td><td>0.3</td><td>setosa    </td></tr>\n",
       "\t<tr><th scope=row>93</th><td>5.8</td><td>2.6</td><td>4.0</td><td>1.2</td><td>versicolor</td></tr>\n",
       "\t<tr><th scope=row>91</th><td>5.5</td><td>2.6</td><td>4.4</td><td>1.2</td><td>versicolor</td></tr>\n",
       "\t<tr><th scope=row>92</th><td>6.1</td><td>3.0</td><td>4.6</td><td>1.4</td><td>versicolor</td></tr>\n",
       "\t<tr><th scope=row>126</th><td>7.2</td><td>3.2</td><td>6.0</td><td>1.8</td><td>virginica </td></tr>\n",
       "\t<tr><th scope=row>149</th><td>6.2</td><td>3.4</td><td>5.4</td><td>2.3</td><td>virginica </td></tr>\n",
       "</tbody>\n",
       "</table>\n"
      ],
      "text/latex": [
       "A data.frame: 6 × 5\n",
       "\\begin{tabular}{r|lllll}\n",
       "  & Sepal.Length & Sepal.Width & Petal.Length & Petal.Width & Species\\\\\n",
       "  & <dbl> & <dbl> & <dbl> & <dbl> & <fct>\\\\\n",
       "\\hline\n",
       "\t18 & 5.1 & 3.5 & 1.4 & 0.3 & setosa    \\\\\n",
       "\t93 & 5.8 & 2.6 & 4.0 & 1.2 & versicolor\\\\\n",
       "\t91 & 5.5 & 2.6 & 4.4 & 1.2 & versicolor\\\\\n",
       "\t92 & 6.1 & 3.0 & 4.6 & 1.4 & versicolor\\\\\n",
       "\t126 & 7.2 & 3.2 & 6.0 & 1.8 & virginica \\\\\n",
       "\t149 & 6.2 & 3.4 & 5.4 & 2.3 & virginica \\\\\n",
       "\\end{tabular}\n"
      ],
      "text/markdown": [
       "\n",
       "A data.frame: 6 × 5\n",
       "\n",
       "| <!--/--> | Sepal.Length &lt;dbl&gt; | Sepal.Width &lt;dbl&gt; | Petal.Length &lt;dbl&gt; | Petal.Width &lt;dbl&gt; | Species &lt;fct&gt; |\n",
       "|---|---|---|---|---|---|\n",
       "| 18 | 5.1 | 3.5 | 1.4 | 0.3 | setosa     |\n",
       "| 93 | 5.8 | 2.6 | 4.0 | 1.2 | versicolor |\n",
       "| 91 | 5.5 | 2.6 | 4.4 | 1.2 | versicolor |\n",
       "| 92 | 6.1 | 3.0 | 4.6 | 1.4 | versicolor |\n",
       "| 126 | 7.2 | 3.2 | 6.0 | 1.8 | virginica  |\n",
       "| 149 | 6.2 | 3.4 | 5.4 | 2.3 | virginica  |\n",
       "\n"
      ],
      "text/plain": [
       "    Sepal.Length Sepal.Width Petal.Length Petal.Width Species   \n",
       "18  5.1          3.5         1.4          0.3         setosa    \n",
       "93  5.8          2.6         4.0          1.2         versicolor\n",
       "91  5.5          2.6         4.4          1.2         versicolor\n",
       "92  6.1          3.0         4.6          1.4         versicolor\n",
       "126 7.2          3.2         6.0          1.8         virginica \n",
       "149 6.2          3.4         5.4          2.3         virginica "
      ]
     },
     "metadata": {},
     "output_type": "display_data"
    }
   ],
   "source": [
    "# set random seed\n",
    "set.seed(1234)\n",
    "\n",
    "# permute iris, shuffle or mix them up\n",
    "# First input to sample requires a vector of numbers i.e. c(1,2,3)..etc. Use 1:nrow(iris) to achieve the same result\n",
    "# The second argument is sample size so in this case we want to randomly sample everything to effectively shuffle them\n",
    "iris <- iris[sample(1:nrow(iris),nrow(iris)),]\n",
    "\n",
    "head(iris) # the shuffled records"
   ]
  },
  {
   "cell_type": "markdown",
   "metadata": {},
   "source": [
    "Notice the number on the left is not in sequential order (the original indices were)."
   ]
  },
  {
   "cell_type": "markdown",
   "metadata": {},
   "source": [
    "#### Splitting\n",
    "\n",
    "Splitting is done by setting the training data to the first 100 rows and then creating 2 objects (dataframes) for each of the training and test sets. The first object has all of the measurements being used for KNN and the second has the label reference for Species.\n",
    "\n",
    "It is important here to recognise that the \"iris\" object created above has been changed because of the shuffle. Therefore the index numbers that appear in the right hand column of the output are not the same as the actual index numbers. This is because the shuffled dataframe was saved as the same object and has a new index but still shows the old index numbers in the output.\n"
   ]
  },
  {
   "cell_type": "code",
   "execution_count": 7,
   "metadata": {},
   "outputs": [
    {
     "data": {
      "text/html": [
       "<ol class=list-inline>\n",
       "\t<li>100</li>\n",
       "\t<li>4</li>\n",
       "</ol>\n"
      ],
      "text/latex": [
       "\\begin{enumerate*}\n",
       "\\item 100\n",
       "\\item 4\n",
       "\\end{enumerate*}\n"
      ],
      "text/markdown": [
       "1. 100\n",
       "2. 4\n",
       "\n",
       "\n"
      ],
      "text/plain": [
       "[1] 100   4"
      ]
     },
     "metadata": {},
     "output_type": "display_data"
    },
    {
     "data": {
      "text/html": [
       "<ol class=list-inline>\n",
       "\t<li>50</li>\n",
       "\t<li>4</li>\n",
       "</ol>\n"
      ],
      "text/latex": [
       "\\begin{enumerate*}\n",
       "\\item 50\n",
       "\\item 4\n",
       "\\end{enumerate*}\n"
      ],
      "text/markdown": [
       "1. 50\n",
       "2. 4\n",
       "\n",
       "\n"
      ],
      "text/plain": [
       "[1] 50  4"
      ]
     },
     "metadata": {},
     "output_type": "display_data"
    }
   ],
   "source": [
    "# Create  training and testing subsets:\n",
    "\n",
    "train.index = 1:100 # first 100 rows as training samples\n",
    "label.ind = 5       # lables are stored in the last column (5)\n",
    "\n",
    "train.data <- iris[train.index, -label.ind] # grab the first 100 records, leave out the species (last column)\n",
    "train.label <- iris[train.index, label.ind]\n",
    "\n",
    "test.data <- iris[-train.index, -label.ind] # grab the last 50 records, leave out the species (last column)\n",
    "test.label <- iris[-train.index, label.ind]\n",
    "\n",
    "dim(train.data) # 100 records\n",
    "dim(test.data)  # 50 records"
   ]
  },
  {
   "cell_type": "code",
   "execution_count": 8,
   "metadata": {},
   "outputs": [
    {
     "data": {
      "text/html": [
       "<table>\n",
       "<caption>A data.frame: 6 × 4</caption>\n",
       "<thead>\n",
       "\t<tr><th></th><th scope=col>Sepal.Length</th><th scope=col>Sepal.Width</th><th scope=col>Petal.Length</th><th scope=col>Petal.Width</th></tr>\n",
       "\t<tr><th></th><th scope=col>&lt;dbl&gt;</th><th scope=col>&lt;dbl&gt;</th><th scope=col>&lt;dbl&gt;</th><th scope=col>&lt;dbl&gt;</th></tr>\n",
       "</thead>\n",
       "<tbody>\n",
       "\t<tr><th scope=row>18</th><td>5.1</td><td>3.5</td><td>1.4</td><td>0.3</td></tr>\n",
       "\t<tr><th scope=row>93</th><td>5.8</td><td>2.6</td><td>4.0</td><td>1.2</td></tr>\n",
       "\t<tr><th scope=row>91</th><td>5.5</td><td>2.6</td><td>4.4</td><td>1.2</td></tr>\n",
       "\t<tr><th scope=row>92</th><td>6.1</td><td>3.0</td><td>4.6</td><td>1.4</td></tr>\n",
       "\t<tr><th scope=row>126</th><td>7.2</td><td>3.2</td><td>6.0</td><td>1.8</td></tr>\n",
       "\t<tr><th scope=row>149</th><td>6.2</td><td>3.4</td><td>5.4</td><td>2.3</td></tr>\n",
       "</tbody>\n",
       "</table>\n"
      ],
      "text/latex": [
       "A data.frame: 6 × 4\n",
       "\\begin{tabular}{r|llll}\n",
       "  & Sepal.Length & Sepal.Width & Petal.Length & Petal.Width\\\\\n",
       "  & <dbl> & <dbl> & <dbl> & <dbl>\\\\\n",
       "\\hline\n",
       "\t18 & 5.1 & 3.5 & 1.4 & 0.3\\\\\n",
       "\t93 & 5.8 & 2.6 & 4.0 & 1.2\\\\\n",
       "\t91 & 5.5 & 2.6 & 4.4 & 1.2\\\\\n",
       "\t92 & 6.1 & 3.0 & 4.6 & 1.4\\\\\n",
       "\t126 & 7.2 & 3.2 & 6.0 & 1.8\\\\\n",
       "\t149 & 6.2 & 3.4 & 5.4 & 2.3\\\\\n",
       "\\end{tabular}\n"
      ],
      "text/markdown": [
       "\n",
       "A data.frame: 6 × 4\n",
       "\n",
       "| <!--/--> | Sepal.Length &lt;dbl&gt; | Sepal.Width &lt;dbl&gt; | Petal.Length &lt;dbl&gt; | Petal.Width &lt;dbl&gt; |\n",
       "|---|---|---|---|---|\n",
       "| 18 | 5.1 | 3.5 | 1.4 | 0.3 |\n",
       "| 93 | 5.8 | 2.6 | 4.0 | 1.2 |\n",
       "| 91 | 5.5 | 2.6 | 4.4 | 1.2 |\n",
       "| 92 | 6.1 | 3.0 | 4.6 | 1.4 |\n",
       "| 126 | 7.2 | 3.2 | 6.0 | 1.8 |\n",
       "| 149 | 6.2 | 3.4 | 5.4 | 2.3 |\n",
       "\n"
      ],
      "text/plain": [
       "    Sepal.Length Sepal.Width Petal.Length Petal.Width\n",
       "18  5.1          3.5         1.4          0.3        \n",
       "93  5.8          2.6         4.0          1.2        \n",
       "91  5.5          2.6         4.4          1.2        \n",
       "92  6.1          3.0         4.6          1.4        \n",
       "126 7.2          3.2         6.0          1.8        \n",
       "149 6.2          3.4         5.4          2.3        "
      ]
     },
     "metadata": {},
     "output_type": "display_data"
    }
   ],
   "source": [
    "head(train.data) # the first 100 records without the Species"
   ]
  },
  {
   "cell_type": "markdown",
   "metadata": {},
   "source": [
    "### Majority Vote"
   ]
  },
  {
   "cell_type": "markdown",
   "metadata": {},
   "source": [
    "The `majority` function takes a list of labels and returns the factor label for the species that occurs the most often in the passed list.\n",
    "\n",
    "Example: \n",
    "* **input:** `x <- train.label[c(1,2,3)]` which is `(setosa,versicolor,versicolor)` - look at the output in the above cell for the actual values\n",
    "* **output:** `versicolor` because *versiclor* appears 2 times in the first 3 records of the train data \n"
   ]
  },
  {
   "cell_type": "code",
   "execution_count": 9,
   "metadata": {},
   "outputs": [],
   "source": [
    "# define an auxiliary function that calculates the majority votes (or mode!)\n",
    "## using tabulate\n",
    "majority <- function(x) {  # Pass the value x which is a dataframe of labels from the K NN values\n",
    "   \n",
    "    # grab the unique values for the labels in x\n",
    "    uniqx <- unique(x)\n",
    "    \n",
    "    # Count each unique label that appears and grab the one with the largest values\n",
    "    uniqx[which.max(tabulate(match(x, uniqx)))]\n",
    "}"
   ]
  },
  {
   "cell_type": "code",
   "execution_count": 10,
   "metadata": {},
   "outputs": [],
   "source": [
    "# Alternative approach \n",
    "## using plyr\n",
    "majority_alt <- function(x) {\n",
    "        \n",
    "    cnt <- count(x)  # use plyr to create a table of counts by values appearing in x\n",
    "    \n",
    "    cnt[which.max(cnt$freq),1]  # simply find the row that has the maximum value in the $freq column created by\n",
    "                                # the count function but we only want to return the first column with the label\n",
    "     \n",
    "}"
   ]
  },
  {
   "cell_type": "markdown",
   "metadata": {},
   "source": [
    "### KNN Classifier"
   ]
  },
  {
   "cell_type": "code",
   "execution_count": 11,
   "metadata": {},
   "outputs": [],
   "source": [
    "# KNN function (distance should be one of euclidean, maximum, manhattan, canberra, binary or minkowski)\n",
    "\n",
    "knn <- function(train.data, train.label, test.data, K=3, distance = 'euclidean'){\n",
    "    \n",
    "    ## count number of train samples\n",
    "    train.len <- nrow(train.data)\n",
    "    \n",
    "    ## count number of test samples\n",
    "    test.len <- nrow(test.data)\n",
    "    \n",
    "    ## calculate distances between samples\n",
    "    ## Combine the test and train sets into a single frame to calculate distances. We want to see for each \n",
    "    ## item in the test dataset how far each and every item in the training data set is from those measurements.\n",
    "    \n",
    "    ## Therefore, by saving it as a matrix that only includes the test values as rows and the train values as columns\n",
    "    ## it creates a matrix of test rows where each row includes every training value's distance. Everything is stored\n",
    "    ## by the index of the data rather than the data itself so it can be looked up in the original datasets\n",
    "    \n",
    "    \n",
    "    dist_data <- rbind(test.data, train.data)  # combine training and test data (order is important)\n",
    "    \n",
    "    dist <- dist(dist_data, method= distance)  # calculate the distnaces using the dist function on the combined set\n",
    "    \n",
    "    # convert to a matrix but only take some values\n",
    "    # The first argument for rows is the test rows which were added to the rbind command first and therefore represent\n",
    "    # the index 1: onwards. To calculate the exact distance we use the length calculated earlier.\n",
    "    # The second argument represents the columns in the maxtrix which start after the test columns. \n",
    "    # Therefore we take test len + 1 to the length of the full training set. \n",
    "    # This ensures we only keep test rows x train columns\n",
    "    \n",
    "    dist <- as.matrix(dist)[1:test.len, (test.len+1):(test.len+train.len)] \n",
    "    \n",
    "    ## for each test sample...\n",
    "    for (i in 1:test.len){\n",
    "        \n",
    "        ### ...find its K nearest neighbours from training sampels...\n",
    "        ## Sorting it by i means the shortest distancs are in order, then it is a simple matter of selecting only K \n",
    "        ## values and storing those values. Again we store the index for searching rather than actual values. \n",
    "        ## The original iris data set was randomly changed at the beginning so the old index displays out of order. \n",
    "        ## The actual index referred to here is the new index created and therefore will always return the right values\n",
    "        \n",
    "        nn <- as.data.frame(sort(dist[i,], index.return = TRUE))[1:K,2]  # index.return is what returns the index\n",
    "        \n",
    "        ###... and calculate the predicted labels according to the majority vote\n",
    "        test.label[i]<- (majority(train.label[nn]))\n",
    "    }\n",
    "    \n",
    "    ## return the class labels as output\n",
    "    return (test.label)\n",
    "}"
   ]
  },
  {
   "cell_type": "markdown",
   "metadata": {},
   "source": [
    "<div class=\"alert alert-info\" role=\"alert\">\n",
    "   An alternative to the loop in the previous cell is to create a vectorized version and apply it at one time. Intrested readers may complete this part...\n",
    "</div>"
   ]
  },
  {
   "cell_type": "code",
   "execution_count": 12,
   "metadata": {},
   "outputs": [
    {
     "data": {
      "text/html": [
       "<ol class=list-inline>\n",
       "\t<li>virginica</li>\n",
       "\t<li>virginica</li>\n",
       "\t<li>setosa</li>\n",
       "\t<li>virginica</li>\n",
       "\t<li>virginica</li>\n",
       "\t<li>versicolor</li>\n",
       "\t<li>versicolor</li>\n",
       "\t<li>versicolor</li>\n",
       "\t<li>setosa</li>\n",
       "\t<li>virginica</li>\n",
       "\t<li>versicolor</li>\n",
       "\t<li>versicolor</li>\n",
       "\t<li>versicolor</li>\n",
       "\t<li>versicolor</li>\n",
       "\t<li>versicolor</li>\n",
       "\t<li>virginica</li>\n",
       "\t<li>versicolor</li>\n",
       "\t<li>versicolor</li>\n",
       "\t<li>versicolor</li>\n",
       "\t<li>versicolor</li>\n",
       "\t<li>virginica</li>\n",
       "\t<li>setosa</li>\n",
       "\t<li>versicolor</li>\n",
       "\t<li>virginica</li>\n",
       "\t<li>virginica</li>\n",
       "\t<li>virginica</li>\n",
       "\t<li>setosa</li>\n",
       "\t<li>setosa</li>\n",
       "\t<li>setosa</li>\n",
       "\t<li>versicolor</li>\n",
       "\t<li>versicolor</li>\n",
       "\t<li>virginica</li>\n",
       "\t<li>setosa</li>\n",
       "\t<li>versicolor</li>\n",
       "\t<li>setosa</li>\n",
       "\t<li>versicolor</li>\n",
       "\t<li>virginica</li>\n",
       "\t<li>setosa</li>\n",
       "\t<li>versicolor</li>\n",
       "\t<li>virginica</li>\n",
       "\t<li>versicolor</li>\n",
       "\t<li>setosa</li>\n",
       "\t<li>virginica</li>\n",
       "\t<li>virginica</li>\n",
       "\t<li>virginica</li>\n",
       "\t<li>versicolor</li>\n",
       "\t<li>virginica</li>\n",
       "\t<li>setosa</li>\n",
       "\t<li>versicolor</li>\n",
       "\t<li>setosa</li>\n",
       "</ol>\n",
       "\n",
       "<details>\n",
       "\t<summary style=display:list-item;cursor:pointer>\n",
       "\t\t<strong>Levels</strong>:\n",
       "\t</summary>\n",
       "\t<ol class=list-inline>\n",
       "\t\t<li>'setosa'</li>\n",
       "\t\t<li>'versicolor'</li>\n",
       "\t\t<li>'virginica'</li>\n",
       "\t</ol>\n",
       "</details>"
      ],
      "text/latex": [
       "\\begin{enumerate*}\n",
       "\\item virginica\n",
       "\\item virginica\n",
       "\\item setosa\n",
       "\\item virginica\n",
       "\\item virginica\n",
       "\\item versicolor\n",
       "\\item versicolor\n",
       "\\item versicolor\n",
       "\\item setosa\n",
       "\\item virginica\n",
       "\\item versicolor\n",
       "\\item versicolor\n",
       "\\item versicolor\n",
       "\\item versicolor\n",
       "\\item versicolor\n",
       "\\item virginica\n",
       "\\item versicolor\n",
       "\\item versicolor\n",
       "\\item versicolor\n",
       "\\item versicolor\n",
       "\\item virginica\n",
       "\\item setosa\n",
       "\\item versicolor\n",
       "\\item virginica\n",
       "\\item virginica\n",
       "\\item virginica\n",
       "\\item setosa\n",
       "\\item setosa\n",
       "\\item setosa\n",
       "\\item versicolor\n",
       "\\item versicolor\n",
       "\\item virginica\n",
       "\\item setosa\n",
       "\\item versicolor\n",
       "\\item setosa\n",
       "\\item versicolor\n",
       "\\item virginica\n",
       "\\item setosa\n",
       "\\item versicolor\n",
       "\\item virginica\n",
       "\\item versicolor\n",
       "\\item setosa\n",
       "\\item virginica\n",
       "\\item virginica\n",
       "\\item virginica\n",
       "\\item versicolor\n",
       "\\item virginica\n",
       "\\item setosa\n",
       "\\item versicolor\n",
       "\\item setosa\n",
       "\\end{enumerate*}\n",
       "\n",
       "\\emph{Levels}: \\begin{enumerate*}\n",
       "\\item 'setosa'\n",
       "\\item 'versicolor'\n",
       "\\item 'virginica'\n",
       "\\end{enumerate*}\n"
      ],
      "text/markdown": [
       "1. virginica\n",
       "2. virginica\n",
       "3. setosa\n",
       "4. virginica\n",
       "5. virginica\n",
       "6. versicolor\n",
       "7. versicolor\n",
       "8. versicolor\n",
       "9. setosa\n",
       "10. virginica\n",
       "11. versicolor\n",
       "12. versicolor\n",
       "13. versicolor\n",
       "14. versicolor\n",
       "15. versicolor\n",
       "16. virginica\n",
       "17. versicolor\n",
       "18. versicolor\n",
       "19. versicolor\n",
       "20. versicolor\n",
       "21. virginica\n",
       "22. setosa\n",
       "23. versicolor\n",
       "24. virginica\n",
       "25. virginica\n",
       "26. virginica\n",
       "27. setosa\n",
       "28. setosa\n",
       "29. setosa\n",
       "30. versicolor\n",
       "31. versicolor\n",
       "32. virginica\n",
       "33. setosa\n",
       "34. versicolor\n",
       "35. setosa\n",
       "36. versicolor\n",
       "37. virginica\n",
       "38. setosa\n",
       "39. versicolor\n",
       "40. virginica\n",
       "41. versicolor\n",
       "42. setosa\n",
       "43. virginica\n",
       "44. virginica\n",
       "45. virginica\n",
       "46. versicolor\n",
       "47. virginica\n",
       "48. setosa\n",
       "49. versicolor\n",
       "50. setosa\n",
       "\n",
       "\n",
       "\n",
       "**Levels**: 1. 'setosa'\n",
       "2. 'versicolor'\n",
       "3. 'virginica'\n",
       "\n",
       "\n"
      ],
      "text/plain": [
       " [1] virginica  virginica  setosa     virginica  virginica  versicolor\n",
       " [7] versicolor versicolor setosa     virginica  versicolor versicolor\n",
       "[13] versicolor versicolor versicolor virginica  versicolor versicolor\n",
       "[19] versicolor versicolor virginica  setosa     versicolor virginica \n",
       "[25] virginica  virginica  setosa     setosa     setosa     versicolor\n",
       "[31] versicolor virginica  setosa     versicolor setosa     versicolor\n",
       "[37] virginica  setosa     versicolor virginica  versicolor setosa    \n",
       "[43] virginica  virginica  virginica  versicolor virginica  setosa    \n",
       "[49] versicolor setosa    \n",
       "Levels: setosa versicolor virginica"
      ]
     },
     "metadata": {},
     "output_type": "display_data"
    }
   ],
   "source": [
    "# let see what is the prediciton of our knn for test samples when K=4\n",
    "knn(train.data, train.label, test.data, K=4)"
   ]
  },
  {
   "cell_type": "code",
   "execution_count": 13,
   "metadata": {},
   "outputs": [
    {
     "data": {
      "text/plain": [
       "            test.label\n",
       "             setosa versicolor virginica\n",
       "  setosa         24          0         0\n",
       "  versicolor      0         40         2\n",
       "  virginica       0          2        32"
      ]
     },
     "metadata": {},
     "output_type": "display_data"
    }
   ],
   "source": [
    "# and a confusion matrix for K = 5\n",
    "prop.table(table(knn(train.data, train.label, test.data, K=5), test.label))*100"
   ]
  },
  {
   "cell_type": "code",
   "execution_count": 14,
   "metadata": {
    "scrolled": true
   },
   "outputs": [
    {
     "data": {
      "text/html": [
       "<table>\n",
       "<caption>A data.frame: 100 × 3</caption>\n",
       "<thead>\n",
       "\t<tr><th scope=col>K</th><th scope=col>train</th><th scope=col>test</th></tr>\n",
       "\t<tr><th scope=col>&lt;int&gt;</th><th scope=col>&lt;dbl&gt;</th><th scope=col>&lt;dbl&gt;</th></tr>\n",
       "</thead>\n",
       "<tbody>\n",
       "\t<tr><td> 1</td><td>0</td><td>0</td></tr>\n",
       "\t<tr><td> 2</td><td>0</td><td>0</td></tr>\n",
       "\t<tr><td> 3</td><td>0</td><td>0</td></tr>\n",
       "\t<tr><td> 4</td><td>0</td><td>0</td></tr>\n",
       "\t<tr><td> 5</td><td>0</td><td>0</td></tr>\n",
       "\t<tr><td> 6</td><td>0</td><td>0</td></tr>\n",
       "\t<tr><td> 7</td><td>0</td><td>0</td></tr>\n",
       "\t<tr><td> 8</td><td>0</td><td>0</td></tr>\n",
       "\t<tr><td> 9</td><td>0</td><td>0</td></tr>\n",
       "\t<tr><td>10</td><td>0</td><td>0</td></tr>\n",
       "\t<tr><td>11</td><td>0</td><td>0</td></tr>\n",
       "\t<tr><td>12</td><td>0</td><td>0</td></tr>\n",
       "\t<tr><td>13</td><td>0</td><td>0</td></tr>\n",
       "\t<tr><td>14</td><td>0</td><td>0</td></tr>\n",
       "\t<tr><td>15</td><td>0</td><td>0</td></tr>\n",
       "\t<tr><td>16</td><td>0</td><td>0</td></tr>\n",
       "\t<tr><td>17</td><td>0</td><td>0</td></tr>\n",
       "\t<tr><td>18</td><td>0</td><td>0</td></tr>\n",
       "\t<tr><td>19</td><td>0</td><td>0</td></tr>\n",
       "\t<tr><td>20</td><td>0</td><td>0</td></tr>\n",
       "\t<tr><td>21</td><td>0</td><td>0</td></tr>\n",
       "\t<tr><td>22</td><td>0</td><td>0</td></tr>\n",
       "\t<tr><td>23</td><td>0</td><td>0</td></tr>\n",
       "\t<tr><td>24</td><td>0</td><td>0</td></tr>\n",
       "\t<tr><td>25</td><td>0</td><td>0</td></tr>\n",
       "\t<tr><td>26</td><td>0</td><td>0</td></tr>\n",
       "\t<tr><td>27</td><td>0</td><td>0</td></tr>\n",
       "\t<tr><td>28</td><td>0</td><td>0</td></tr>\n",
       "\t<tr><td>29</td><td>0</td><td>0</td></tr>\n",
       "\t<tr><td>30</td><td>0</td><td>0</td></tr>\n",
       "\t<tr><td>⋮</td><td>⋮</td><td>⋮</td></tr>\n",
       "\t<tr><td> 71</td><td>0</td><td>0</td></tr>\n",
       "\t<tr><td> 72</td><td>0</td><td>0</td></tr>\n",
       "\t<tr><td> 73</td><td>0</td><td>0</td></tr>\n",
       "\t<tr><td> 74</td><td>0</td><td>0</td></tr>\n",
       "\t<tr><td> 75</td><td>0</td><td>0</td></tr>\n",
       "\t<tr><td> 76</td><td>0</td><td>0</td></tr>\n",
       "\t<tr><td> 77</td><td>0</td><td>0</td></tr>\n",
       "\t<tr><td> 78</td><td>0</td><td>0</td></tr>\n",
       "\t<tr><td> 79</td><td>0</td><td>0</td></tr>\n",
       "\t<tr><td> 80</td><td>0</td><td>0</td></tr>\n",
       "\t<tr><td> 81</td><td>0</td><td>0</td></tr>\n",
       "\t<tr><td> 82</td><td>0</td><td>0</td></tr>\n",
       "\t<tr><td> 83</td><td>0</td><td>0</td></tr>\n",
       "\t<tr><td> 84</td><td>0</td><td>0</td></tr>\n",
       "\t<tr><td> 85</td><td>0</td><td>0</td></tr>\n",
       "\t<tr><td> 86</td><td>0</td><td>0</td></tr>\n",
       "\t<tr><td> 87</td><td>0</td><td>0</td></tr>\n",
       "\t<tr><td> 88</td><td>0</td><td>0</td></tr>\n",
       "\t<tr><td> 89</td><td>0</td><td>0</td></tr>\n",
       "\t<tr><td> 90</td><td>0</td><td>0</td></tr>\n",
       "\t<tr><td> 91</td><td>0</td><td>0</td></tr>\n",
       "\t<tr><td> 92</td><td>0</td><td>0</td></tr>\n",
       "\t<tr><td> 93</td><td>0</td><td>0</td></tr>\n",
       "\t<tr><td> 94</td><td>0</td><td>0</td></tr>\n",
       "\t<tr><td> 95</td><td>0</td><td>0</td></tr>\n",
       "\t<tr><td> 96</td><td>0</td><td>0</td></tr>\n",
       "\t<tr><td> 97</td><td>0</td><td>0</td></tr>\n",
       "\t<tr><td> 98</td><td>0</td><td>0</td></tr>\n",
       "\t<tr><td> 99</td><td>0</td><td>0</td></tr>\n",
       "\t<tr><td>100</td><td>0</td><td>0</td></tr>\n",
       "</tbody>\n",
       "</table>\n"
      ],
      "text/latex": [
       "A data.frame: 100 × 3\n",
       "\\begin{tabular}{r|lll}\n",
       " K & train & test\\\\\n",
       " <int> & <dbl> & <dbl>\\\\\n",
       "\\hline\n",
       "\t  1 & 0 & 0\\\\\n",
       "\t  2 & 0 & 0\\\\\n",
       "\t  3 & 0 & 0\\\\\n",
       "\t  4 & 0 & 0\\\\\n",
       "\t  5 & 0 & 0\\\\\n",
       "\t  6 & 0 & 0\\\\\n",
       "\t  7 & 0 & 0\\\\\n",
       "\t  8 & 0 & 0\\\\\n",
       "\t  9 & 0 & 0\\\\\n",
       "\t 10 & 0 & 0\\\\\n",
       "\t 11 & 0 & 0\\\\\n",
       "\t 12 & 0 & 0\\\\\n",
       "\t 13 & 0 & 0\\\\\n",
       "\t 14 & 0 & 0\\\\\n",
       "\t 15 & 0 & 0\\\\\n",
       "\t 16 & 0 & 0\\\\\n",
       "\t 17 & 0 & 0\\\\\n",
       "\t 18 & 0 & 0\\\\\n",
       "\t 19 & 0 & 0\\\\\n",
       "\t 20 & 0 & 0\\\\\n",
       "\t 21 & 0 & 0\\\\\n",
       "\t 22 & 0 & 0\\\\\n",
       "\t 23 & 0 & 0\\\\\n",
       "\t 24 & 0 & 0\\\\\n",
       "\t 25 & 0 & 0\\\\\n",
       "\t 26 & 0 & 0\\\\\n",
       "\t 27 & 0 & 0\\\\\n",
       "\t 28 & 0 & 0\\\\\n",
       "\t 29 & 0 & 0\\\\\n",
       "\t 30 & 0 & 0\\\\\n",
       "\t ⋮ & ⋮ & ⋮\\\\\n",
       "\t  71 & 0 & 0\\\\\n",
       "\t  72 & 0 & 0\\\\\n",
       "\t  73 & 0 & 0\\\\\n",
       "\t  74 & 0 & 0\\\\\n",
       "\t  75 & 0 & 0\\\\\n",
       "\t  76 & 0 & 0\\\\\n",
       "\t  77 & 0 & 0\\\\\n",
       "\t  78 & 0 & 0\\\\\n",
       "\t  79 & 0 & 0\\\\\n",
       "\t  80 & 0 & 0\\\\\n",
       "\t  81 & 0 & 0\\\\\n",
       "\t  82 & 0 & 0\\\\\n",
       "\t  83 & 0 & 0\\\\\n",
       "\t  84 & 0 & 0\\\\\n",
       "\t  85 & 0 & 0\\\\\n",
       "\t  86 & 0 & 0\\\\\n",
       "\t  87 & 0 & 0\\\\\n",
       "\t  88 & 0 & 0\\\\\n",
       "\t  89 & 0 & 0\\\\\n",
       "\t  90 & 0 & 0\\\\\n",
       "\t  91 & 0 & 0\\\\\n",
       "\t  92 & 0 & 0\\\\\n",
       "\t  93 & 0 & 0\\\\\n",
       "\t  94 & 0 & 0\\\\\n",
       "\t  95 & 0 & 0\\\\\n",
       "\t  96 & 0 & 0\\\\\n",
       "\t  97 & 0 & 0\\\\\n",
       "\t  98 & 0 & 0\\\\\n",
       "\t  99 & 0 & 0\\\\\n",
       "\t 100 & 0 & 0\\\\\n",
       "\\end{tabular}\n"
      ],
      "text/markdown": [
       "\n",
       "A data.frame: 100 × 3\n",
       "\n",
       "| K &lt;int&gt; | train &lt;dbl&gt; | test &lt;dbl&gt; |\n",
       "|---|---|---|\n",
       "|  1 | 0 | 0 |\n",
       "|  2 | 0 | 0 |\n",
       "|  3 | 0 | 0 |\n",
       "|  4 | 0 | 0 |\n",
       "|  5 | 0 | 0 |\n",
       "|  6 | 0 | 0 |\n",
       "|  7 | 0 | 0 |\n",
       "|  8 | 0 | 0 |\n",
       "|  9 | 0 | 0 |\n",
       "| 10 | 0 | 0 |\n",
       "| 11 | 0 | 0 |\n",
       "| 12 | 0 | 0 |\n",
       "| 13 | 0 | 0 |\n",
       "| 14 | 0 | 0 |\n",
       "| 15 | 0 | 0 |\n",
       "| 16 | 0 | 0 |\n",
       "| 17 | 0 | 0 |\n",
       "| 18 | 0 | 0 |\n",
       "| 19 | 0 | 0 |\n",
       "| 20 | 0 | 0 |\n",
       "| 21 | 0 | 0 |\n",
       "| 22 | 0 | 0 |\n",
       "| 23 | 0 | 0 |\n",
       "| 24 | 0 | 0 |\n",
       "| 25 | 0 | 0 |\n",
       "| 26 | 0 | 0 |\n",
       "| 27 | 0 | 0 |\n",
       "| 28 | 0 | 0 |\n",
       "| 29 | 0 | 0 |\n",
       "| 30 | 0 | 0 |\n",
       "| ⋮ | ⋮ | ⋮ |\n",
       "|  71 | 0 | 0 |\n",
       "|  72 | 0 | 0 |\n",
       "|  73 | 0 | 0 |\n",
       "|  74 | 0 | 0 |\n",
       "|  75 | 0 | 0 |\n",
       "|  76 | 0 | 0 |\n",
       "|  77 | 0 | 0 |\n",
       "|  78 | 0 | 0 |\n",
       "|  79 | 0 | 0 |\n",
       "|  80 | 0 | 0 |\n",
       "|  81 | 0 | 0 |\n",
       "|  82 | 0 | 0 |\n",
       "|  83 | 0 | 0 |\n",
       "|  84 | 0 | 0 |\n",
       "|  85 | 0 | 0 |\n",
       "|  86 | 0 | 0 |\n",
       "|  87 | 0 | 0 |\n",
       "|  88 | 0 | 0 |\n",
       "|  89 | 0 | 0 |\n",
       "|  90 | 0 | 0 |\n",
       "|  91 | 0 | 0 |\n",
       "|  92 | 0 | 0 |\n",
       "|  93 | 0 | 0 |\n",
       "|  94 | 0 | 0 |\n",
       "|  95 | 0 | 0 |\n",
       "|  96 | 0 | 0 |\n",
       "|  97 | 0 | 0 |\n",
       "|  98 | 0 | 0 |\n",
       "|  99 | 0 | 0 |\n",
       "| 100 | 0 | 0 |\n",
       "\n"
      ],
      "text/plain": [
       "    K   train test\n",
       "1    1  0     0   \n",
       "2    2  0     0   \n",
       "3    3  0     0   \n",
       "4    4  0     0   \n",
       "5    5  0     0   \n",
       "6    6  0     0   \n",
       "7    7  0     0   \n",
       "8    8  0     0   \n",
       "9    9  0     0   \n",
       "10  10  0     0   \n",
       "11  11  0     0   \n",
       "12  12  0     0   \n",
       "13  13  0     0   \n",
       "14  14  0     0   \n",
       "15  15  0     0   \n",
       "16  16  0     0   \n",
       "17  17  0     0   \n",
       "18  18  0     0   \n",
       "19  19  0     0   \n",
       "20  20  0     0   \n",
       "21  21  0     0   \n",
       "22  22  0     0   \n",
       "23  23  0     0   \n",
       "24  24  0     0   \n",
       "25  25  0     0   \n",
       "26  26  0     0   \n",
       "27  27  0     0   \n",
       "28  28  0     0   \n",
       "29  29  0     0   \n",
       "30  30  0     0   \n",
       "⋮   ⋮   ⋮     ⋮   \n",
       "71   71 0     0   \n",
       "72   72 0     0   \n",
       "73   73 0     0   \n",
       "74   74 0     0   \n",
       "75   75 0     0   \n",
       "76   76 0     0   \n",
       "77   77 0     0   \n",
       "78   78 0     0   \n",
       "79   79 0     0   \n",
       "80   80 0     0   \n",
       "81   81 0     0   \n",
       "82   82 0     0   \n",
       "83   83 0     0   \n",
       "84   84 0     0   \n",
       "85   85 0     0   \n",
       "86   86 0     0   \n",
       "87   87 0     0   \n",
       "88   88 0     0   \n",
       "89   89 0     0   \n",
       "90   90 0     0   \n",
       "91   91 0     0   \n",
       "92   92 0     0   \n",
       "93   93 0     0   \n",
       "94   94 0     0   \n",
       "95   95 0     0   \n",
       "96   96 0     0   \n",
       "97   97 0     0   \n",
       "98   98 0     0   \n",
       "99   99 0     0   \n",
       "100 100 0     0   "
      ]
     },
     "metadata": {},
     "output_type": "display_data"
    }
   ],
   "source": [
    "# calculate the train and test missclassification rates for K in 1:100 \n",
    "# THIS MAY TAKE A FEW MINUTES TO COMPLETE!\n",
    "miss <- data.frame('K'=1:100, 'train'=rep(0,100), 'test'=rep(0,100))\n",
    "miss"
   ]
  },
  {
   "cell_type": "code",
   "execution_count": 15,
   "metadata": {},
   "outputs": [],
   "source": [
    "# For each value of K, evaluate the output of KNN for the value K that are not equal to train.label or test.label.\n",
    "# This equates to TRUE/FALSE and therefore can be summed. Taking the proportion of total data creates a %\n",
    "\n",
    "for (k in 1:100){\n",
    "    miss[k,'train'] <- sum(knn(train.data, train.label, train.data, K=k) != train.label)/nrow(train.data)*100\n",
    "    miss[k,'test'] <-  sum(knn(train.data, train.label, test.data, K=k)  != test.label)/nrow(test.data)*100\n",
    "}"
   ]
  },
  {
   "cell_type": "markdown",
   "metadata": {},
   "source": [
    "<div class=\"alert alert-info\" role=\"alert\">\n",
    "   An alternative approach is to use `apply` over the table to calculate each column and avoid the loop. Intrested readers may complete this part...\n",
    "</div>"
   ]
  },
  {
   "cell_type": "code",
   "execution_count": 16,
   "metadata": {},
   "outputs": [
    {
     "data": {
      "image/png": "[encoded data removed]",
      "text/plain": [
       "plot without title"
      ]
     },
     "metadata": {},
     "output_type": "display_data"
    }
   ],
   "source": [
    "# plot misclassification percentage for train and test data sets\n",
    "miss.m <- melt(miss, id='K') # reshape for visualization\n",
    "names(miss.m) <- c('K', 'type', 'error')\n",
    "ggplot(data=miss.m, aes(x=log(1/K), y=error, color=type)) + \n",
    "    geom_line() +\n",
    "    scale_color_discrete(guide = guide_legend(title = NULL)) + \n",
    "    theme_minimal() +\n",
    "    ggtitle(\"Missclassification Error\")"
   ]
  },
  {
   "cell_type": "markdown",
   "metadata": {},
   "source": [
    "<h1>Discussions</h1>\n",
    "<ol>\n",
    "\t<li>As $K$ increases, does the complexity of the KNN classifier increase or decrease?</li>\n",
    "\t<li>What is the relationship between $1/K$ and the training error?</li>\n",
    "\t<li>What is the relationship between $1/K$ and the testing error?</li>\n",
    "\t<li>How do you explain the difference between training and testing error trends as the complexity of the KNN classifier increases?</li>\n",
    "    <li>Can you tell the areas where the model overfits and underfits? What is the best value for $K$?</li>\n",
    "\t</ol>"
   ]
  },
  {
   "cell_type": "code",
   "execution_count": null,
   "metadata": {},
   "outputs": [],
   "source": []
  }
 ],
 "metadata": {
  "kernelspec": {
   "display_name": "R",
   "language": "R",
   "name": "ir"
  },
  "language_info": {
   "codemirror_mode": "r",
   "file_extension": ".r",
   "mimetype": "text/x-r-source",
   "name": "R",
   "pygments_lexer": "r",
   "version": "3.5.1"
  }
 },
 "nbformat": 4,
 "nbformat_minor": 1
}
